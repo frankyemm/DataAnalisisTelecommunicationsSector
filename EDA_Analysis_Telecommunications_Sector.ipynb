{
 "cells": [
  {
   "cell_type": "markdown",
   "id": "b8bcd2a6",
   "metadata": {},
   "source": [
    "# Exploratory Data Analysis (EDA) for Telecommunications Sector Analysis\n",
    "Este notebook contiene un Análisis Exploratorio de Datos (EDA) para evaluar el comportamiento del sector de telecomunicaciones en Argentina. La empresa, cuya actividad principal es brindar acceso a internet, requiere comprender la distribución de accesos, velocidades de conexión, penetración de mercado y tendencias de ingresos. Durante este análisis, examinaremos aspectos clave como valores faltantes, outliers, duplicados y patrones generales mediante visualizaciones.\n",
    "\n",
    "## Pasos del EDA:\n",
    "1. **Exploración manual de los datos**\n",
    "2. **Propuesta de Insights y KPI's**\n",
    "3. **Análisis de valores faltantes**\n",
    "4. **Identificación de Outliers**\n",
    "5. **Detección de registros duplicados**\n",
    "6. **Generación de Archivos Limpios**\n",
    "7. **Análisis a partir de gráficos**\n",
    "8. **Cálculo de KPI's y Recomendaciones Estratégicas para la Empresa**\n",
    "9. **Conclusiones y Recomendaciones**\n"
   ]
  },
  {
   "cell_type": "markdown",
   "id": "f45aab07",
   "metadata": {},
   "source": [
    "## Exploración manual de los datos"
   ]
  },
  {
   "cell_type": "markdown",
   "id": "d87d2a84",
   "metadata": {},
   "source": [
    "Teniendo en cuenta el diccionario de datos y la información de las hojas del Excel, se opta por seleccionar las siguientes hojas y los criterios por los cuales se eligen:\n",
    "\n",
    "***Velocidad % por prov***: Proporciona la media de velocidad de bajada por provincia, lo cual es esencial para comparar la calidad del servicio en diferentes áreas.\n",
    "\n",
    "***Penetración-hogares***: Contienen datos sobre el número de accesos por cada 100 hogares, para cada provincia. Esta hoja es fundamental para analizar la penetración y cobertura de internet.\n",
    "\n",
    "***Totales Accesos Por Tecnología***: Ofrece un resumen de accesos por tecnología a nivel nacional en cada trimestre, ideal para un análisis temporal de la adopción tecnológica en conexiones a internet.\n",
    "\n",
    "***Totales Accesos por rango y Accesos por rangos***: Muestran el número de accesos en diferentes rangos de velocidad (como hasta 512 kbps, entre 1 Mbps y 6 Mbps, etc.), tanto a nivel total como por provincia, lo que facilita un análisis de la calidad del servicio.\n",
    "\n",
    "***Ingresos***: Datos sobre ingresos trimestrales por servicios de internet, que permiten relacionar el crecimiento en accesos con el rendimiento financiero.\n",
    "\n",
    "## Insights globales esperados:\n",
    "\n",
    "* Identificar regiones y tecnologías prioritarias para inversión.\n",
    "* Determinar áreas de oportunidad en términos de calidad de servicio (velocidad).\n",
    "* Evaluar la relación entre penetración y accesos.\n",
    "\n",
    "## KPI Propuestos\n",
    "\n",
    "---\n",
    "\n",
    "### 1. Aumentar en un 2% el acceso al servicio de Internet para el próximo trimestre, cada 100 hogares, por provincia\n",
    "\n",
    "**Definición del KPI:**\n",
    "- **Objetivo**: Incrementar los accesos a Internet por cada 100 hogares en un 2% en cada provincia para el próximo trimestre.\n",
    "- **Fórmula**:  \n",
    "\n",
    "  $KPI = \\left(\\frac{\\text{Nuevo acceso} - \\text{Acceso actual}}{\\text{Acceso actual}}\\right) \\times 100$\n",
    "\n",
    "- **Variables necesarias**:\n",
    "  - *Acceso actual*: Accesos por cada 100 hogares en el trimestre actual.\n",
    "  - *Nuevo acceso*: Proyección del número de accesos por cada 100 hogares tras el incremento del 2%.\n",
    "\n",
    "**Métrica a entregar**:\n",
    "- Porcentaje proyectado de incremento para cada provincia.\n",
    "- Número absoluto de nuevos accesos necesarios para alcanzar el 2%.\n",
    "\n",
    "**Medible y temporal**:\n",
    "- Evaluable trimestralmente comparando los datos actuales y proyectados con los resultados reales.\n",
    "\n",
    "---\n",
    "\n",
    "### 2. Aumentar un 2% la velocidad promedio de bajada por provincias para el próximo trimestre\n",
    "\n",
    "**Definición del KPI:**\n",
    "- **Objetivo**: Incrementar la velocidad promedio de bajada en las provincias en un 2% durante el próximo trimestre.\n",
    "- **Fórmula**:  \n",
    "\n",
    "  $KPI = \\left(\\frac{\\text{Nueva velocidad promedio} - \\text{Velocidad promedio actual}}{\\text{Velocidad promedio actual}}\\right) \\times 100$\n",
    "\n",
    "- **Variables necesarias**:\n",
    "  - *Velocidad promedio actual*: Media de las velocidades actuales por provincia (Mbps).\n",
    "  - *Nueva velocidad promedio*: Proyección de la velocidad promedio tras el incremento del 2%.\n",
    "\n",
    "**Métrica a entregar**:\n",
    "- Porcentaje de incremento en velocidad promedio por provincia para el siguiente trimestre.\n",
    "- Velocidad promedio proyectada en Mbps.\n",
    "\n",
    "**Medible y temporal**:\n",
    "- Evaluable al final del próximo trimestre, midiendo el cambio porcentual en las velocidades promedio.\n",
    "\n",
    "---\n",
    "\n",
    "### 3. Incrementar un 1.5% la cobertura de fibra óptica en el siguiente trimestre en todas las provincias\n",
    "\n",
    "**Definición del KPI:**\n",
    "- **Objetivo**: Ampliar la cobertura de tecnologías avanzadas en un 1.5% en comparación con el trimestre anterior.\n",
    "- **Fórmula**:\n",
    "\n",
    "  $KPI = \\left(\\frac{\\text{Total Accesos proyectados} - \\text{Total Accesos actuales}}{\\text{Total Accesos actuales}}\\right) \\times 100$\n",
    "  \n",
    "- **Variables necesarias**:\n",
    "  - *Accesos actuales*: Total de Accesos por tecnologías (Fibra Óptica) en el trimestre actual.\n",
    "  - *Ingresos proyectados*: Proyección de Accesos por tecnologías (Fibra Óptica) con un incremento del 1.5%.\n",
    "\n",
    "**Métrica a entregar**:\n",
    "- Porcentaje proyectado de incremento de accesos.\n",
    "- Acceso absoluto adicional necesario para alcanzar el 1.5%.\n",
    "\n",
    "**Medible y temporal**:\n",
    "- Evaluable trimestralmente comparando los accesos actuales de Fibra Óptica con los del trimestre anterior.\n",
    "\n"
   ]
  },
  {
   "cell_type": "markdown",
   "id": "8d56817a",
   "metadata": {},
   "source": [
    "## Análisis de Valores Faltantes\n",
    "En esta sección se identifican valores faltantes en cada una de las hojas del archivo de Excel que fueron seleccionadas con anterioridad. Los valores faltantes pueden indicar datos no registrados o errores en la recolección de datos y, en algunos casos, requieren imputación o eliminación.\n",
    "A continuación, evaluaremos la presencia de valores faltantes en cada hoja."
   ]
  },
  {
   "cell_type": "code",
   "execution_count": 19,
   "id": "4473c316",
   "metadata": {},
   "outputs": [
    {
     "name": "stdout",
     "output_type": "stream",
     "text": [
      "Archivo CSV generado para la hoja 'Velocidad % por prov': Datasets\\Velocidad % por prov.csv\n",
      "Archivo CSV generado para la hoja 'Penetracion-hogares': Datasets\\Penetracion-hogares.csv\n",
      "Archivo CSV generado para la hoja 'Totales Accesos Por Tecnología': Datasets\\Totales Accesos Por Tecnología.csv\n",
      "Archivo CSV generado para la hoja 'Totales Accesos por rango': Datasets\\Totales Accesos por rango.csv\n",
      "Archivo CSV generado para la hoja 'Accesos por rangos': Datasets\\Accesos por rangos.csv\n",
      "Archivo CSV generado para la hoja 'Ingresos': Datasets\\Ingresos.csv\n",
      "Todos los archivos procesados y guardados en el directorio 'Datasets'\n"
     ]
    }
   ],
   "source": [
    "import pandas as pd\n",
    "import os\n",
    "import warnings\n",
    "\n",
    "warnings.filterwarnings(\"ignore\")\n",
    "\n",
    "\n",
    "# Archivo Excel de origen\n",
    "archivo_excel = \"Internet.xlsx\"\n",
    "\n",
    "# Lista de hojas que queremos extraer\n",
    "hojas_deseadas = ['Velocidad % por prov', 'Penetracion-hogares', 'Totales Accesos Por Tecnología',\n",
    "                  'Totales Accesos por rango', 'Accesos por rangos', 'Ingresos']\n",
    "\n",
    "# Diccionario para almacenar los DataFrames\n",
    "dataframes = {}\n",
    "\n",
    "# Directorio para guardar los archivos CSV\n",
    "output_dir = \"Datasets\"\n",
    "os.makedirs(output_dir, exist_ok=True)\n",
    "\n",
    "# Leer cada hoja del archivo Excel y guardarla como CSV\n",
    "for hoja in hojas_deseadas:\n",
    "    try:\n",
    "        # Leer hoja específica\n",
    "        dataframes[hoja] = pd.read_excel(archivo_excel, sheet_name=hoja)\n",
    "        \n",
    "        # Guardar como CSV\n",
    "        output_path = os.path.join(output_dir, f\"{hoja}.csv\")\n",
    "        dataframes[hoja].to_csv(output_path, index=False, encoding=\"utf-8-sig\")\n",
    "        \n",
    "        print(f\"Archivo CSV generado para la hoja '{hoja}': {output_path}\")\n",
    "    except Exception as e:\n",
    "        print(f\"No se pudo procesar la hoja '{hoja}'. Error: {e}\")\n",
    "\n",
    "print(f\"Todos los archivos procesados y guardados en el directorio '{output_dir}'\")\n"
   ]
  },
  {
   "cell_type": "markdown",
   "id": "51a12333",
   "metadata": {},
   "source": [
    "Leemos cada uno de los archivos y buscamos valores faltantes"
   ]
  },
  {
   "cell_type": "code",
   "execution_count": 20,
   "id": "1985bef3",
   "metadata": {},
   "outputs": [
    {
     "name": "stdout",
     "output_type": "stream",
     "text": [
      "DataFrame: Velocidad % por prov no tiene valores nulos.\n",
      "--------------------------------------------------\n",
      "DataFrame: Penetracion-hogares no tiene valores nulos.\n",
      "--------------------------------------------------\n",
      "DataFrame: Totales Accesos Por Tecnología no tiene valores nulos.\n",
      "--------------------------------------------------\n",
      "DataFrame: Totales Accesos por rango no tiene valores nulos.\n",
      "--------------------------------------------------\n",
      "DataFrame: Accesos por rangos\n",
      "Columnas con valores nulos:\n",
      "  OTROS: 6 nulos\n",
      "--------------------------------------------------\n",
      "DataFrame: Ingresos no tiene valores nulos.\n",
      "--------------------------------------------------\n"
     ]
    }
   ],
   "source": [
    "# Iterar sobre cada DataFrame en el diccionario\n",
    "for nombre, df in dataframes.items():\n",
    "    # Encontrar columnas con valores nulos\n",
    "    columnas_con_nulos = df.columns[df.isnull().any()]\n",
    "    \n",
    "    if not columnas_con_nulos.empty:\n",
    "        print(f\"DataFrame: {nombre}\")\n",
    "        print(\"Columnas con valores nulos:\")\n",
    "        for columna in columnas_con_nulos:\n",
    "            print(f\"  {columna}: {df[columna].isnull().sum()} nulos\")\n",
    "        print(\"-\" * 50)\n",
    "    else:\n",
    "        print(f\"DataFrame: {nombre} no tiene valores nulos.\")\n",
    "        print(\"-\" * 50)"
   ]
  },
  {
   "cell_type": "markdown",
   "id": "091e856a",
   "metadata": {},
   "source": [
    "Teniendo en cuenta los resultados obtenidos con el anterior análisis, se eliminan los valores nulos para el dataframes Accesos por rangos"
   ]
  },
  {
   "cell_type": "code",
   "execution_count": 21,
   "id": "03f8f7f2",
   "metadata": {},
   "outputs": [
    {
     "name": "stdout",
     "output_type": "stream",
     "text": [
      "Valores nulos rellenados y negativos eliminados en Accesos por rangos.\n"
     ]
    }
   ],
   "source": [
    "# Procesar los DataFrames afectados\n",
    "for nombre, df in dataframes.items():\n",
    "    if nombre == \"Accesos por rangos\":\n",
    "        # Rellenar valores nulos con 0\n",
    "        df[\"OTROS\"] = df[\"OTROS\"].fillna(0)\n",
    "        # Eliminar valores negativos\n",
    "        df = df[df[\"OTROS\"] >= 0]\n",
    "        dataframes[nombre] = df\n",
    "        print(f\"Valores nulos rellenados y negativos eliminados en {nombre}.\")"
   ]
  },
  {
   "cell_type": "markdown",
   "id": "147ffa26",
   "metadata": {},
   "source": [
    "Verificamos que se hayan eliminado los valores nulos"
   ]
  },
  {
   "cell_type": "code",
   "execution_count": 22,
   "id": "0d42669f",
   "metadata": {},
   "outputs": [
    {
     "name": "stdout",
     "output_type": "stream",
     "text": [
      "DataFrame: Velocidad % por prov no tiene valores nulos.\n",
      "--------------------------------------------------\n",
      "DataFrame: Penetracion-hogares no tiene valores nulos.\n",
      "--------------------------------------------------\n",
      "DataFrame: Totales Accesos Por Tecnología no tiene valores nulos.\n",
      "--------------------------------------------------\n",
      "DataFrame: Totales Accesos por rango no tiene valores nulos.\n",
      "--------------------------------------------------\n",
      "DataFrame: Accesos por rangos no tiene valores nulos.\n",
      "--------------------------------------------------\n",
      "DataFrame: Ingresos no tiene valores nulos.\n",
      "--------------------------------------------------\n"
     ]
    }
   ],
   "source": [
    "for nombre, df in dataframes.items():\n",
    "    # Encontrar columnas con valores nulos\n",
    "    columnas_con_nulos = df.columns[df.isnull().any()]\n",
    "    \n",
    "    if not columnas_con_nulos.empty:\n",
    "        print(f\"DataFrame: {nombre}\")\n",
    "        print(\"Columnas con valores nulos:\")\n",
    "        for columna in columnas_con_nulos:\n",
    "            print(f\"  {columna}: {df[columna].isnull().sum()} nulos\")\n",
    "        print(\"-\" * 50)\n",
    "    else:\n",
    "        print(f\"DataFrame: {nombre} no tiene valores nulos.\")\n",
    "        print(\"-\" * 50)"
   ]
  },
  {
   "cell_type": "markdown",
   "id": "68693add",
   "metadata": {},
   "source": [
    "## Detección de Valores Atípicos (Outliers)\n",
    "Los valores atípicos pueden influir significativamente en las conclusiones del análisis. En esta sección se analizarán los valores extremos en columnas numéricas clave como accesos y velocidades.\n",
    "En esta sección se determinan los valores atípicos teniendo como referencia los límites superiores e inferiores del primer y tercer cuartil y el intercuartil\n",
    "Se detectaron valores \"Outlier\" que no se tratan debido a la naturaleza de los datos"
   ]
  },
  {
   "cell_type": "code",
   "execution_count": 23,
   "id": "c801f669",
   "metadata": {},
   "outputs": [
    {
     "name": "stdout",
     "output_type": "stream",
     "text": [
      "DataFrame: Velocidad % por prov\n",
      "  Columna: Mbps (Media de bajada), Valores atípicos en índices: [0, 1, 2, 3, 5, 6, 7, 8, 13, 14, 15, 16, 18, 20, 23, 24, 25, 26, 27, 29, 30, 31, 32, 37, 38, 39, 40, 42, 44, 47, 48, 49, 50, 51, 53, 54, 55, 56, 61, 62, 63, 64, 66, 68, 71, 72, 73, 74, 75, 77, 78, 79, 80, 85, 86, 87, 88, 90, 92, 95, 96, 97, 98, 99, 101, 102, 103, 104, 109, 110, 111, 112, 114, 116, 119, 120, 121, 122, 123, 125, 126, 127, 128, 133, 134, 135, 136, 140, 143, 144, 145, 146, 147, 149, 150, 151, 152, 157, 158, 159, 160, 164, 167, 168, 169, 193, 217, 241, 265, 289, 313]\n",
      "--------------------------------------------------\n",
      "DataFrame: Penetracion-hogares\n",
      "  Columna: Accesos por cada 100 hogares, Valores atípicos en índices: [25, 49, 121, 145, 169, 193, 625, 649, 673, 721, 745, 769, 817, 841]\n",
      "--------------------------------------------------\n",
      "DataFrame: Totales Accesos Por Tecnología\n",
      "--------------------------------------------------\n",
      "DataFrame: Totales Accesos por rango\n",
      "  Columna: Hasta 512 kbps, Valores atípicos en índices: [19, 20, 21, 22, 23, 24, 25]\n",
      "  Columna: Entre 512 Kbps y 1 Mbps, Valores atípicos en índices: [39, 40, 41]\n",
      "  Columna: Entre 6 Mbps y 10 Mbps, Valores atípicos en índices: [38, 39, 40, 41]\n",
      "  Columna: Entre 10 Mbps y 20 Mbps, Valores atípicos en índices: [23, 24, 25, 26, 27, 40, 41]\n",
      "  Columna: Entre 20 Mbps y 30 Mbps, Valores atípicos en índices: [22, 23]\n",
      "--------------------------------------------------\n",
      "DataFrame: Accesos por rangos\n",
      "  Columna: HASTA 512 kbps, Valores atípicos en índices: [0, 24, 48, 72, 96, 120, 144, 168, 192, 216, 240, 264, 288, 312, 336, 360, 384, 408, 416, 432, 440, 456, 464, 480, 488, 504, 512, 518, 528, 536, 542, 560, 566, 584, 590, 600, 608, 614, 620, 624, 631, 632, 638, 644, 648, 655, 662, 668, 672, 679, 680, 686, 692, 696, 703, 704, 710, 716, 720, 727, 728, 734, 740, 744, 751, 752, 758, 760, 764, 768, 769, 775, 776, 777, 781, 782, 783, 784, 788, 792, 793, 799, 800, 801, 806, 807, 808, 812, 816, 817, 823, 824, 825, 830, 831, 832, 836, 840, 841, 847, 848, 849, 854, 855, 856, 860, 864, 865, 871, 872, 873, 874, 878, 879, 880, 884, 888, 889, 895, 896, 897, 898, 902, 903, 904, 908, 912, 913, 916, 917, 919, 920, 921, 922, 926, 927, 932, 933, 936, 940, 943, 944, 946, 950, 951, 956, 960, 964, 965, 967, 968, 969, 970, 974, 975, 980, 981, 984, 988, 989, 991, 992, 993, 994, 998, 999]\n",
      "  Columna: + 512 Kbps - 1 Mbps, Valores atípicos en índices: [0, 24, 48, 72, 96, 120, 144, 168, 192, 216, 264, 288, 312, 336, 360, 384, 408, 432, 456, 480, 504, 509, 524, 528, 533, 548, 552, 557, 572, 576, 581, 596, 600, 605, 620, 624, 625, 629, 644, 648, 649, 653, 668, 672, 673, 677, 692, 696, 701, 716, 720, 725, 740, 744, 749, 764, 768, 773, 788, 791, 792, 793, 797, 799, 812, 815, 816, 817, 821, 823, 836, 839, 840, 841, 845, 847, 860, 863, 864, 865, 869, 871, 884, 887, 888, 889, 893, 895, 908, 911, 912, 913, 917, 919, 932, 935, 936, 937, 941, 943, 952, 956, 959, 960, 961, 965, 967, 976, 980, 983, 984, 985, 989, 991]\n",
      "  Columna: + 1 Mbps - 6 Mbps, Valores atípicos en índices: [0, 24, 48, 72, 96, 120, 144, 168, 192, 216, 240, 245, 264, 269, 284, 288, 293, 308, 312, 317, 332, 336, 341, 356, 360, 365, 380, 384, 389, 404, 408, 413, 428, 432, 433, 437, 452, 456, 457, 461, 468, 476, 480, 481, 485, 492, 500, 504, 505, 509, 516, 524, 528, 529, 533, 540, 548, 552, 553, 557, 564, 572, 576, 577, 581, 596, 600, 601, 605, 620, 624, 625, 629, 636, 644, 648, 649, 653, 668, 672, 673, 677, 684, 692, 696, 697, 701, 708, 716, 720, 721, 725, 732, 740, 744, 745, 749, 756, 764, 768, 769, 773, 780, 788, 792, 793, 797, 804, 812, 816, 817, 821, 828, 836, 840, 841, 845, 860, 864, 865, 869, 884, 888, 889, 893, 908, 912, 913, 917, 932, 936, 937, 941, 956, 960, 961, 965, 980, 984, 985, 989]\n",
      "  Columna: + 6 Mbps - 10 Mbps, Valores atípicos en índices: [0, 20, 24, 44, 48, 68, 72, 92, 96, 116, 120, 125, 140, 144, 149, 164, 168, 173, 188, 192, 197, 212, 216, 221, 236, 240, 245, 260, 264, 269, 284, 288, 293, 308, 312, 317, 332, 336, 341, 356, 360, 365, 380, 384, 389, 404, 408, 409, 413, 428, 432, 433, 437, 452, 456, 457, 461, 476, 480, 481, 500, 504, 505, 524, 528, 529, 548, 552, 553, 572, 576, 577, 581, 596, 600, 601, 605, 620, 624, 625, 629, 644, 648, 649, 668, 672, 673, 696, 697, 720, 721, 744, 745, 768, 769, 792, 793, 816, 817, 840, 841, 864, 865, 888, 889, 912, 913, 936, 937, 960, 984]\n",
      "  Columna: + 10 Mbps - 20 Mbps, Valores atípicos en índices: [0, 24, 48, 72, 92, 96, 116, 120, 140, 144, 149, 164, 168, 173, 188, 192, 197, 204, 212, 216, 221, 228, 236, 240, 241, 245, 252, 260, 264, 269, 276, 284, 288, 293, 308, 312, 317, 332, 336, 341, 356, 360, 361, 365, 380, 384, 385, 389, 404, 408, 409, 413, 428, 432, 433, 437, 452, 456, 457, 461, 476, 480, 481, 485, 500, 504, 505, 509, 524, 528, 529, 533, 548, 552, 553, 557, 572, 576, 577, 581, 596, 600, 601, 605, 620, 624, 625, 629, 644, 648, 649, 653, 668, 672, 673, 677, 692, 696, 697, 701, 716, 720, 721, 725, 740, 744, 745, 749, 764, 768, 769, 773, 792, 793, 797, 816, 817, 821, 840, 841, 864, 865, 888, 889, 912, 913, 936, 937]\n",
      "  Columna: + 20 Mbps - 30 Mbps, Valores atípicos en índices: [0, 5, 18, 24, 29, 42, 44, 48, 53, 66, 72, 77, 90, 96, 114, 120, 138, 140, 144, 162, 168, 169, 173, 175, 186, 188, 192, 193, 197, 199, 210, 212, 216, 217, 221, 234, 236, 240, 241, 245, 258, 260, 264, 265, 269, 282, 284, 288, 289, 293, 306, 308, 312, 313, 317, 330, 332, 336, 337, 341, 354, 356, 360, 361, 365, 378, 380, 384, 385, 389, 402, 404, 408, 409, 413, 426, 428, 432, 433, 437, 450, 452, 456, 457, 461, 474, 476, 480, 481, 485, 498, 500, 504, 505, 509, 524, 528, 529, 533, 548, 552, 553, 557, 572, 576, 577, 581, 596, 600, 601, 605, 620, 624, 625, 629, 644, 648, 649, 653, 672, 673, 696, 697, 720, 721, 744, 745, 768]\n",
      "  Columna: + 30 Mbps, Valores atípicos en índices: [0, 1, 5, 7, 12, 13, 20, 23, 24, 25, 27, 29, 31, 36, 37, 44, 47, 48, 49, 53, 55, 60, 61, 68, 71, 72, 73, 77, 79, 84, 85, 92, 95, 96, 97, 101, 103, 108, 109, 116, 119, 120, 121, 125, 127, 132, 140, 143, 144, 145, 149, 151, 156, 164, 167, 168, 169, 173, 180, 188, 191, 192, 193, 197, 204, 212, 215, 216, 217, 221, 236, 239, 240, 241, 245, 260, 263, 264, 265, 269, 284, 287, 288, 289, 293, 308, 311, 312, 313, 317, 332, 336, 337, 341, 356, 360, 361, 365, 380, 384, 385, 389, 404, 408, 409, 413, 428, 432, 433, 437, 452, 456, 457, 461, 480, 481, 504, 505, 528, 529, 552, 553, 576, 577, 600, 601, 624, 625]\n",
      "  Columna: OTROS, Valores atípicos en índices: [0, 14, 17, 19, 20, 24, 38, 41, 43, 48, 53, 62, 65, 67, 72, 89, 92, 96, 101, 116, 120, 121, 124, 125, 132, 135, 140, 144, 145, 148, 149, 156, 159, 164, 168, 169, 172, 183, 188, 192, 193, 196, 206, 207, 212, 216, 231, 234, 236, 240, 255, 258, 260, 279, 282, 303, 306, 327, 330, 332, 351, 354, 356, 360, 375, 378, 380, 384, 399, 402, 404, 408, 423, 426, 428, 432, 447, 450, 452, 456, 471, 474, 476, 477, 480, 487, 489, 495, 498, 500, 501, 513, 522, 524, 528, 537, 546, 548, 552, 576, 588, 596, 597, 600, 612, 620, 621, 624]\n",
      "  Columna: Total, Valores atípicos en índices: [0, 1, 5, 20, 24, 25, 29, 44, 48, 49, 53, 68, 72, 73, 77, 92, 96, 97, 101, 116, 120, 121, 125, 140, 144, 145, 149, 164, 168, 169, 173, 188, 192, 193, 197, 212, 216, 217, 221, 236, 240, 241, 245, 260, 264, 265, 269, 284, 288, 289, 293, 308, 312, 313, 317, 332, 336, 337, 341, 356, 360, 361, 365, 380, 384, 385, 389, 404, 408, 409, 413, 428, 432, 433, 437, 452, 456, 457, 461, 476, 480, 481, 485, 500, 504, 505, 509, 524, 528, 529, 533, 548, 552, 553, 557, 572, 576, 577, 581, 596, 600, 601, 605, 620, 624, 625, 629, 644, 648, 649, 653, 668, 672, 673, 677, 692, 696, 697, 701, 716, 720, 721, 725, 740, 744, 745, 749, 764, 768, 769, 773, 788, 792, 793, 797, 812, 816, 817, 821, 836, 840, 841, 845, 860, 864, 865, 869, 884, 888, 889, 893, 908, 912, 913, 917, 932, 936, 937, 941, 956, 960, 961, 965, 980, 984, 985, 989]\n",
      "--------------------------------------------------\n",
      "DataFrame: Ingresos\n",
      "  Columna: Año, Valores atípicos en índices: [5]\n",
      "  Columna: Ingresos (miles de pesos), Valores atípicos en índices: [0, 1, 2, 3, 4, 5]\n",
      "--------------------------------------------------\n"
     ]
    }
   ],
   "source": [
    "import numpy as np\n",
    "\n",
    "# Función para identificar valores atípicos usando el rango intercuartílico (IQR)\n",
    "def detectar_outliers(df, columnas):\n",
    "    outliers = {}\n",
    "    for columna in columnas:\n",
    "        Q1 = df[columna].quantile(0.25)  # Primer cuartil\n",
    "        Q3 = df[columna].quantile(0.75)  # Tercer cuartil\n",
    "        IQR = Q3 - Q1  # Rango intercuartílico\n",
    "        lower_bound = Q1 - 1.5 * IQR  # Límite inferior\n",
    "        upper_bound = Q3 + 1.5 * IQR  # Límite superior\n",
    "        \n",
    "        # Filtrar valores fuera de los límites\n",
    "        outlier_indices = df[(df[columna] < lower_bound) | (df[columna] > upper_bound)].index\n",
    "        outliers[columna] = outlier_indices.tolist()\n",
    "    return outliers\n",
    "\n",
    "# Identificar valores atípicos en cada DataFrame del diccionario\n",
    "for nombre, df in dataframes.items():\n",
    "    columnas_numericas = df.select_dtypes(include=[np.number]).columns  # Seleccionar columnas numéricas\n",
    "    if not columnas_numericas.empty:\n",
    "        print(f\"DataFrame: {nombre}\")\n",
    "        outliers = detectar_outliers(df, columnas_numericas)\n",
    "        for columna, indices in outliers.items():\n",
    "            if indices:\n",
    "                print(f\"  Columna: {columna}, Valores atípicos en índices: {indices}\")\n",
    "        print(\"-\" * 50)\n"
   ]
  },
  {
   "cell_type": "markdown",
   "id": "b859e198",
   "metadata": {},
   "source": [
    "Entre los valores de ingresos podemos encontrar un año que está incorrecto, este sería el 2033"
   ]
  },
  {
   "cell_type": "code",
   "execution_count": 24,
   "id": "8ef4a6ac",
   "metadata": {},
   "outputs": [],
   "source": [
    "dataframes['Ingresos']\n",
    "# Cambiar el año solo para la fila específica donde \"Año\" es 2033\n",
    "dataframes['Ingresos'].loc[dataframes['Ingresos']['Año'] == 2033, 'Año'] = 2023\n"
   ]
  },
  {
   "cell_type": "markdown",
   "id": "1c89ecd3",
   "metadata": {},
   "source": [
    "## Detección de Registros Duplicados\n",
    "La existencia de registros duplicados puede distorsionar el análisis, especialmente al calcular totales o promedios. Revisaremos cada hoja para verificar si hay filas duplicadas.\n"
   ]
  },
  {
   "cell_type": "code",
   "execution_count": 25,
   "id": "ad864524",
   "metadata": {},
   "outputs": [
    {
     "name": "stdout",
     "output_type": "stream",
     "text": [
      "DataFrame: Velocidad % por prov no tiene filas duplicadas.\n",
      "DataFrame: Penetracion-hogares no tiene filas duplicadas.\n",
      "DataFrame: Totales Accesos Por Tecnología no tiene filas duplicadas.\n",
      "DataFrame: Totales Accesos por rango no tiene filas duplicadas.\n",
      "DataFrame: Accesos por rangos no tiene filas duplicadas.\n",
      "DataFrame: Ingresos no tiene filas duplicadas.\n"
     ]
    }
   ],
   "source": [
    "# Iterar sobre cada DataFrame en el diccionario para identificar duplicados\n",
    "for nombre, df in dataframes.items():\n",
    "    # Verificar si hay duplicados\n",
    "    duplicados = df.duplicated().sum()\n",
    "    if duplicados > 0:\n",
    "        print(f\"DataFrame: {nombre} tiene {duplicados} filas duplicadas.\")\n",
    "    else:\n",
    "        print(f\"DataFrame: {nombre} no tiene filas duplicadas.\")"
   ]
  },
  {
   "cell_type": "markdown",
   "id": "9a748d88",
   "metadata": {},
   "source": [
    "## Generación de Archivos Limpios\n",
    "Se generan los archivos limpios con el fin de utilizarlos en el dashboard"
   ]
  },
  {
   "cell_type": "code",
   "execution_count": 26,
   "id": "5a9ff008",
   "metadata": {},
   "outputs": [
    {
     "name": "stdout",
     "output_type": "stream",
     "text": [
      "Archivo guardado: Data_cleaned\\Velocidad % por prov.csv\n",
      "Archivo guardado: Data_cleaned\\Penetracion-hogares.csv\n",
      "Archivo guardado: Data_cleaned\\Totales Accesos Por Tecnología.csv\n",
      "Archivo guardado: Data_cleaned\\Totales Accesos por rango.csv\n",
      "Archivo guardado: Data_cleaned\\Accesos por rangos.csv\n",
      "Archivo guardado: Data_cleaned\\Ingresos.csv\n",
      "Todos los archivos han sido guardados en la carpeta: Data_cleaned\n"
     ]
    }
   ],
   "source": [
    "import os\n",
    "\n",
    "# Directorio para guardar los archivos CSV\n",
    "output_dir = \"Data_cleaned\"\n",
    "os.makedirs(output_dir, exist_ok=True)\n",
    "\n",
    "# Guardar cada DataFrame como CSV\n",
    "for nombre, df in dataframes.items():\n",
    "    output_path = os.path.join(output_dir, f\"{nombre}.csv\")\n",
    "    df.to_csv(output_path, index=False, encoding=\"utf-8-sig\")  # Exportar con codificación UTF-8\n",
    "    print(f\"Archivo guardado: {output_path}\")\n",
    "\n",
    "print(f\"Todos los archivos han sido guardados en la carpeta: {output_dir}\")"
   ]
  },
  {
   "cell_type": "markdown",
   "id": "4654a7f6",
   "metadata": {},
   "source": [
    "## Análisis gráfico\n",
    "\n",
    "Se plantean gráficos pertienentes debido a que es fundamental en el análisis de datos porque facilita la comprensión, interpretación y comunicación de la información.\n",
    "El análisis gráfico no solo es una herramienta analítica, sino también una herramienta de comunicación. Facilita la toma de decisiones basada en datos y asegura que la información clave sea accesible y comprensible para todos los interesados ofrenciendo:\n",
    "* Facilitar la comprensión\n",
    "* Identificar patrones y tendencias\n",
    "* Resaltar anomalías\n",
    "* Mejora en la toma de decisiones\n",
    "* Comunicación efectiva\n",
    "* Comparaciones claras\n",
    "* Reducción de sesgos en la interpretación\n",
    "\n",
    "**Nota para el lector**: se suben las imágenes de los gráficos debido a que no se muestran al momento de subir el repositorio, sin embargo son las obtenidas al ejecutar el código del notebook"
   ]
  },
  {
   "cell_type": "code",
   "execution_count": 27,
   "id": "1566928f",
   "metadata": {},
   "outputs": [],
   "source": [
    "df_accesos_por_rangos = dataframes[\"Accesos por rangos\"]\n",
    "\n",
    "# Asegúrate de limpiar los nombres de las columnas\n",
    "df_accesos_por_rangos.columns = df_accesos_por_rangos.columns.str.strip()"
   ]
  },
  {
   "cell_type": "markdown",
   "id": "daa0b5d2",
   "metadata": {},
   "source": [
    "## Distribución de Accesos Totales para cada provincia, trimestre y año\n",
    "\n",
    "El gráfico refleja un mercado con un crecimiento constante y sostenido en los accesos totales por trimestre en Buenos Aires durante el año 2022. La estabilidad trimestral y el ligero crecimiento sugieren una adopción progresiva de los servicios de acceso a internet. Este tipo de comportamiento puede ser útil para planificar estrategias comerciales o evaluar la capacidad de infraestructura en la región."
   ]
  },
  {
   "cell_type": "code",
   "execution_count": 28,
   "id": "7961d98e",
   "metadata": {},
   "outputs": [
    {
     "data": {
      "application/vnd.jupyter.widget-view+json": {
       "model_id": "9c67b2a34e8443efb4310a5339917a13",
       "version_major": 2,
       "version_minor": 0
      },
      "text/plain": [
       "VBox(children=(HBox(children=(Dropdown(description='Provincia:', options=('Buenos Aires', 'Capital Federal', '…"
      ]
     },
     "metadata": {},
     "output_type": "display_data"
    },
    {
     "data": {
      "application/vnd.plotly.v1+json": {
       "config": {
        "plotlyServerURL": "https://plot.ly"
       },
       "data": [
        {
         "marker": {
          "color": [
           "blue",
           "orange",
           "green",
           "red"
          ]
         },
         "name": "Total",
         "text": [
          4555424,
          4667183,
          4721668,
          4794665
         ],
         "textposition": "outside",
         "type": "bar",
         "x": [
          1,
          2,
          3,
          4
         ],
         "y": [
          4555424,
          4667183,
          4721668,
          4794665
         ]
        }
       ],
       "layout": {
        "template": {
         "data": {
          "bar": [
           {
            "error_x": {
             "color": "#2a3f5f"
            },
            "error_y": {
             "color": "#2a3f5f"
            },
            "marker": {
             "line": {
              "color": "#E5ECF6",
              "width": 0.5
             },
             "pattern": {
              "fillmode": "overlay",
              "size": 10,
              "solidity": 0.2
             }
            },
            "type": "bar"
           }
          ],
          "barpolar": [
           {
            "marker": {
             "line": {
              "color": "#E5ECF6",
              "width": 0.5
             },
             "pattern": {
              "fillmode": "overlay",
              "size": 10,
              "solidity": 0.2
             }
            },
            "type": "barpolar"
           }
          ],
          "carpet": [
           {
            "aaxis": {
             "endlinecolor": "#2a3f5f",
             "gridcolor": "white",
             "linecolor": "white",
             "minorgridcolor": "white",
             "startlinecolor": "#2a3f5f"
            },
            "baxis": {
             "endlinecolor": "#2a3f5f",
             "gridcolor": "white",
             "linecolor": "white",
             "minorgridcolor": "white",
             "startlinecolor": "#2a3f5f"
            },
            "type": "carpet"
           }
          ],
          "choropleth": [
           {
            "colorbar": {
             "outlinewidth": 0,
             "ticks": ""
            },
            "type": "choropleth"
           }
          ],
          "contour": [
           {
            "colorbar": {
             "outlinewidth": 0,
             "ticks": ""
            },
            "colorscale": [
             [
              0,
              "#0d0887"
             ],
             [
              0.1111111111111111,
              "#46039f"
             ],
             [
              0.2222222222222222,
              "#7201a8"
             ],
             [
              0.3333333333333333,
              "#9c179e"
             ],
             [
              0.4444444444444444,
              "#bd3786"
             ],
             [
              0.5555555555555556,
              "#d8576b"
             ],
             [
              0.6666666666666666,
              "#ed7953"
             ],
             [
              0.7777777777777778,
              "#fb9f3a"
             ],
             [
              0.8888888888888888,
              "#fdca26"
             ],
             [
              1,
              "#f0f921"
             ]
            ],
            "type": "contour"
           }
          ],
          "contourcarpet": [
           {
            "colorbar": {
             "outlinewidth": 0,
             "ticks": ""
            },
            "type": "contourcarpet"
           }
          ],
          "heatmap": [
           {
            "colorbar": {
             "outlinewidth": 0,
             "ticks": ""
            },
            "colorscale": [
             [
              0,
              "#0d0887"
             ],
             [
              0.1111111111111111,
              "#46039f"
             ],
             [
              0.2222222222222222,
              "#7201a8"
             ],
             [
              0.3333333333333333,
              "#9c179e"
             ],
             [
              0.4444444444444444,
              "#bd3786"
             ],
             [
              0.5555555555555556,
              "#d8576b"
             ],
             [
              0.6666666666666666,
              "#ed7953"
             ],
             [
              0.7777777777777778,
              "#fb9f3a"
             ],
             [
              0.8888888888888888,
              "#fdca26"
             ],
             [
              1,
              "#f0f921"
             ]
            ],
            "type": "heatmap"
           }
          ],
          "heatmapgl": [
           {
            "colorbar": {
             "outlinewidth": 0,
             "ticks": ""
            },
            "colorscale": [
             [
              0,
              "#0d0887"
             ],
             [
              0.1111111111111111,
              "#46039f"
             ],
             [
              0.2222222222222222,
              "#7201a8"
             ],
             [
              0.3333333333333333,
              "#9c179e"
             ],
             [
              0.4444444444444444,
              "#bd3786"
             ],
             [
              0.5555555555555556,
              "#d8576b"
             ],
             [
              0.6666666666666666,
              "#ed7953"
             ],
             [
              0.7777777777777778,
              "#fb9f3a"
             ],
             [
              0.8888888888888888,
              "#fdca26"
             ],
             [
              1,
              "#f0f921"
             ]
            ],
            "type": "heatmapgl"
           }
          ],
          "histogram": [
           {
            "marker": {
             "pattern": {
              "fillmode": "overlay",
              "size": 10,
              "solidity": 0.2
             }
            },
            "type": "histogram"
           }
          ],
          "histogram2d": [
           {
            "colorbar": {
             "outlinewidth": 0,
             "ticks": ""
            },
            "colorscale": [
             [
              0,
              "#0d0887"
             ],
             [
              0.1111111111111111,
              "#46039f"
             ],
             [
              0.2222222222222222,
              "#7201a8"
             ],
             [
              0.3333333333333333,
              "#9c179e"
             ],
             [
              0.4444444444444444,
              "#bd3786"
             ],
             [
              0.5555555555555556,
              "#d8576b"
             ],
             [
              0.6666666666666666,
              "#ed7953"
             ],
             [
              0.7777777777777778,
              "#fb9f3a"
             ],
             [
              0.8888888888888888,
              "#fdca26"
             ],
             [
              1,
              "#f0f921"
             ]
            ],
            "type": "histogram2d"
           }
          ],
          "histogram2dcontour": [
           {
            "colorbar": {
             "outlinewidth": 0,
             "ticks": ""
            },
            "colorscale": [
             [
              0,
              "#0d0887"
             ],
             [
              0.1111111111111111,
              "#46039f"
             ],
             [
              0.2222222222222222,
              "#7201a8"
             ],
             [
              0.3333333333333333,
              "#9c179e"
             ],
             [
              0.4444444444444444,
              "#bd3786"
             ],
             [
              0.5555555555555556,
              "#d8576b"
             ],
             [
              0.6666666666666666,
              "#ed7953"
             ],
             [
              0.7777777777777778,
              "#fb9f3a"
             ],
             [
              0.8888888888888888,
              "#fdca26"
             ],
             [
              1,
              "#f0f921"
             ]
            ],
            "type": "histogram2dcontour"
           }
          ],
          "mesh3d": [
           {
            "colorbar": {
             "outlinewidth": 0,
             "ticks": ""
            },
            "type": "mesh3d"
           }
          ],
          "parcoords": [
           {
            "line": {
             "colorbar": {
              "outlinewidth": 0,
              "ticks": ""
             }
            },
            "type": "parcoords"
           }
          ],
          "pie": [
           {
            "automargin": true,
            "type": "pie"
           }
          ],
          "scatter": [
           {
            "fillpattern": {
             "fillmode": "overlay",
             "size": 10,
             "solidity": 0.2
            },
            "type": "scatter"
           }
          ],
          "scatter3d": [
           {
            "line": {
             "colorbar": {
              "outlinewidth": 0,
              "ticks": ""
             }
            },
            "marker": {
             "colorbar": {
              "outlinewidth": 0,
              "ticks": ""
             }
            },
            "type": "scatter3d"
           }
          ],
          "scattercarpet": [
           {
            "marker": {
             "colorbar": {
              "outlinewidth": 0,
              "ticks": ""
             }
            },
            "type": "scattercarpet"
           }
          ],
          "scattergeo": [
           {
            "marker": {
             "colorbar": {
              "outlinewidth": 0,
              "ticks": ""
             }
            },
            "type": "scattergeo"
           }
          ],
          "scattergl": [
           {
            "marker": {
             "colorbar": {
              "outlinewidth": 0,
              "ticks": ""
             }
            },
            "type": "scattergl"
           }
          ],
          "scattermapbox": [
           {
            "marker": {
             "colorbar": {
              "outlinewidth": 0,
              "ticks": ""
             }
            },
            "type": "scattermapbox"
           }
          ],
          "scatterpolar": [
           {
            "marker": {
             "colorbar": {
              "outlinewidth": 0,
              "ticks": ""
             }
            },
            "type": "scatterpolar"
           }
          ],
          "scatterpolargl": [
           {
            "marker": {
             "colorbar": {
              "outlinewidth": 0,
              "ticks": ""
             }
            },
            "type": "scatterpolargl"
           }
          ],
          "scatterternary": [
           {
            "marker": {
             "colorbar": {
              "outlinewidth": 0,
              "ticks": ""
             }
            },
            "type": "scatterternary"
           }
          ],
          "surface": [
           {
            "colorbar": {
             "outlinewidth": 0,
             "ticks": ""
            },
            "colorscale": [
             [
              0,
              "#0d0887"
             ],
             [
              0.1111111111111111,
              "#46039f"
             ],
             [
              0.2222222222222222,
              "#7201a8"
             ],
             [
              0.3333333333333333,
              "#9c179e"
             ],
             [
              0.4444444444444444,
              "#bd3786"
             ],
             [
              0.5555555555555556,
              "#d8576b"
             ],
             [
              0.6666666666666666,
              "#ed7953"
             ],
             [
              0.7777777777777778,
              "#fb9f3a"
             ],
             [
              0.8888888888888888,
              "#fdca26"
             ],
             [
              1,
              "#f0f921"
             ]
            ],
            "type": "surface"
           }
          ],
          "table": [
           {
            "cells": {
             "fill": {
              "color": "#EBF0F8"
             },
             "line": {
              "color": "white"
             }
            },
            "header": {
             "fill": {
              "color": "#C8D4E3"
             },
             "line": {
              "color": "white"
             }
            },
            "type": "table"
           }
          ]
         },
         "layout": {
          "annotationdefaults": {
           "arrowcolor": "#2a3f5f",
           "arrowhead": 0,
           "arrowwidth": 1
          },
          "autotypenumbers": "strict",
          "coloraxis": {
           "colorbar": {
            "outlinewidth": 0,
            "ticks": ""
           }
          },
          "colorscale": {
           "diverging": [
            [
             0,
             "#8e0152"
            ],
            [
             0.1,
             "#c51b7d"
            ],
            [
             0.2,
             "#de77ae"
            ],
            [
             0.3,
             "#f1b6da"
            ],
            [
             0.4,
             "#fde0ef"
            ],
            [
             0.5,
             "#f7f7f7"
            ],
            [
             0.6,
             "#e6f5d0"
            ],
            [
             0.7,
             "#b8e186"
            ],
            [
             0.8,
             "#7fbc41"
            ],
            [
             0.9,
             "#4d9221"
            ],
            [
             1,
             "#276419"
            ]
           ],
           "sequential": [
            [
             0,
             "#0d0887"
            ],
            [
             0.1111111111111111,
             "#46039f"
            ],
            [
             0.2222222222222222,
             "#7201a8"
            ],
            [
             0.3333333333333333,
             "#9c179e"
            ],
            [
             0.4444444444444444,
             "#bd3786"
            ],
            [
             0.5555555555555556,
             "#d8576b"
            ],
            [
             0.6666666666666666,
             "#ed7953"
            ],
            [
             0.7777777777777778,
             "#fb9f3a"
            ],
            [
             0.8888888888888888,
             "#fdca26"
            ],
            [
             1,
             "#f0f921"
            ]
           ],
           "sequentialminus": [
            [
             0,
             "#0d0887"
            ],
            [
             0.1111111111111111,
             "#46039f"
            ],
            [
             0.2222222222222222,
             "#7201a8"
            ],
            [
             0.3333333333333333,
             "#9c179e"
            ],
            [
             0.4444444444444444,
             "#bd3786"
            ],
            [
             0.5555555555555556,
             "#d8576b"
            ],
            [
             0.6666666666666666,
             "#ed7953"
            ],
            [
             0.7777777777777778,
             "#fb9f3a"
            ],
            [
             0.8888888888888888,
             "#fdca26"
            ],
            [
             1,
             "#f0f921"
            ]
           ]
          },
          "colorway": [
           "#636efa",
           "#EF553B",
           "#00cc96",
           "#ab63fa",
           "#FFA15A",
           "#19d3f3",
           "#FF6692",
           "#B6E880",
           "#FF97FF",
           "#FECB52"
          ],
          "font": {
           "color": "#2a3f5f"
          },
          "geo": {
           "bgcolor": "white",
           "lakecolor": "white",
           "landcolor": "#E5ECF6",
           "showlakes": true,
           "showland": true,
           "subunitcolor": "white"
          },
          "hoverlabel": {
           "align": "left"
          },
          "hovermode": "closest",
          "mapbox": {
           "style": "light"
          },
          "paper_bgcolor": "white",
          "plot_bgcolor": "#E5ECF6",
          "polar": {
           "angularaxis": {
            "gridcolor": "white",
            "linecolor": "white",
            "ticks": ""
           },
           "bgcolor": "#E5ECF6",
           "radialaxis": {
            "gridcolor": "white",
            "linecolor": "white",
            "ticks": ""
           }
          },
          "scene": {
           "xaxis": {
            "backgroundcolor": "#E5ECF6",
            "gridcolor": "white",
            "gridwidth": 2,
            "linecolor": "white",
            "showbackground": true,
            "ticks": "",
            "zerolinecolor": "white"
           },
           "yaxis": {
            "backgroundcolor": "#E5ECF6",
            "gridcolor": "white",
            "gridwidth": 2,
            "linecolor": "white",
            "showbackground": true,
            "ticks": "",
            "zerolinecolor": "white"
           },
           "zaxis": {
            "backgroundcolor": "#E5ECF6",
            "gridcolor": "white",
            "gridwidth": 2,
            "linecolor": "white",
            "showbackground": true,
            "ticks": "",
            "zerolinecolor": "white"
           }
          },
          "shapedefaults": {
           "line": {
            "color": "#2a3f5f"
           }
          },
          "ternary": {
           "aaxis": {
            "gridcolor": "white",
            "linecolor": "white",
            "ticks": ""
           },
           "baxis": {
            "gridcolor": "white",
            "linecolor": "white",
            "ticks": ""
           },
           "bgcolor": "#E5ECF6",
           "caxis": {
            "gridcolor": "white",
            "linecolor": "white",
            "ticks": ""
           }
          },
          "title": {
           "x": 0.05
          },
          "xaxis": {
           "automargin": true,
           "gridcolor": "white",
           "linecolor": "white",
           "ticks": "",
           "title": {
            "standoff": 15
           },
           "zerolinecolor": "white",
           "zerolinewidth": 2
          },
          "yaxis": {
           "automargin": true,
           "gridcolor": "white",
           "linecolor": "white",
           "ticks": "",
           "title": {
            "standoff": 15
           },
           "zerolinecolor": "white",
           "zerolinewidth": 2
          }
         }
        },
        "title": {
         "text": "Distribución de Accesos Totales por Trimestre en Buenos Aires (2022)"
        },
        "xaxis": {
         "title": {
          "text": "Trimestre"
         },
         "type": "category"
        },
        "yaxis": {
         "title": {
          "text": "Total"
         }
        }
       }
      }
     },
     "metadata": {},
     "output_type": "display_data"
    }
   ],
   "source": [
    "from graficos import AccesosPorRangosPlot\n",
    "\n",
    "accesos_plot = AccesosPorRangosPlot(dataframes[\"Accesos por rangos\"])\n",
    "accesos_plot.display()"
   ]
  },
  {
   "cell_type": "markdown",
   "id": "5fb8ab21",
   "metadata": {},
   "source": [
    "![imagen](src/dist_acc_tot_trim_buen_2022.png)"
   ]
  },
  {
   "cell_type": "markdown",
   "id": "0c6144a8",
   "metadata": {},
   "source": [
    "## Distribución de Accesos por Rangos de Velocidades según año y trimestre\n",
    "\n",
    "El gráfico refleja un mercado de internet en transición hacia velocidades más altas, con una concentración masiva en conexiones superiores a 30 Mbps, lo que podría estar asociado al despliegue de tecnologías avanzadas como fibra óptica en la región. Las velocidades más bajas están quedando obsoletas, y su participación disminuye rápidamente.\n",
    "\n",
    "Este comportamiento también sugiere que los proveedores de internet deben continuar invirtiendo en infraestructura de alta velocidad para mantenerse competitivos en el mercado."
   ]
  },
  {
   "cell_type": "code",
   "execution_count": 29,
   "id": "585d30b4",
   "metadata": {},
   "outputs": [
    {
     "data": {
      "application/vnd.plotly.v1+json": {
       "config": {
        "plotlyServerURL": "https://plot.ly"
       },
       "data": [
        {
         "alignmentgroup": "True",
         "hovertemplate": "Rango de Velocidades=%{x}<br>Cantidad de Accesos=%{text}<extra></extra>",
         "legendgroup": "HASTA 512 kbps",
         "marker": {
          "color": "#636efa",
          "pattern": {
           "shape": ""
          }
         },
         "name": "HASTA 512 kbps",
         "offsetgroup": "HASTA 512 kbps",
         "orientation": "v",
         "showlegend": true,
         "text": [
          25287
         ],
         "textposition": "outside",
         "type": "bar",
         "x": [
          "HASTA 512 kbps"
         ],
         "xaxis": "x",
         "y": [
          25287
         ],
         "yaxis": "y"
        },
        {
         "alignmentgroup": "True",
         "hovertemplate": "Rango de Velocidades=%{x}<br>Cantidad de Accesos=%{text}<extra></extra>",
         "legendgroup": "+ 512 Kbps - 1 Mbps",
         "marker": {
          "color": "#EF553B",
          "pattern": {
           "shape": ""
          }
         },
         "name": "+ 512 Kbps - 1 Mbps",
         "offsetgroup": "+ 512 Kbps - 1 Mbps",
         "orientation": "v",
         "showlegend": true,
         "text": [
          23034
         ],
         "textposition": "outside",
         "type": "bar",
         "x": [
          "+ 512 Kbps - 1 Mbps"
         ],
         "xaxis": "x",
         "y": [
          23034
         ],
         "yaxis": "y"
        },
        {
         "alignmentgroup": "True",
         "hovertemplate": "Rango de Velocidades=%{x}<br>Cantidad de Accesos=%{text}<extra></extra>",
         "legendgroup": "+ 1 Mbps - 6 Mbps",
         "marker": {
          "color": "#00cc96",
          "pattern": {
           "shape": ""
          }
         },
         "name": "+ 1 Mbps - 6 Mbps",
         "offsetgroup": "+ 1 Mbps - 6 Mbps",
         "orientation": "v",
         "showlegend": true,
         "text": [
          222627
         ],
         "textposition": "outside",
         "type": "bar",
         "x": [
          "+ 1 Mbps - 6 Mbps"
         ],
         "xaxis": "x",
         "y": [
          222627
         ],
         "yaxis": "y"
        },
        {
         "alignmentgroup": "True",
         "hovertemplate": "Rango de Velocidades=%{x}<br>Cantidad de Accesos=%{text}<extra></extra>",
         "legendgroup": "+ 6 Mbps - 10 Mbps",
         "marker": {
          "color": "#ab63fa",
          "pattern": {
           "shape": ""
          }
         },
         "name": "+ 6 Mbps - 10 Mbps",
         "offsetgroup": "+ 6 Mbps - 10 Mbps",
         "orientation": "v",
         "showlegend": true,
         "text": [
          221660
         ],
         "textposition": "outside",
         "type": "bar",
         "x": [
          "+ 6 Mbps - 10 Mbps"
         ],
         "xaxis": "x",
         "y": [
          221660
         ],
         "yaxis": "y"
        },
        {
         "alignmentgroup": "True",
         "hovertemplate": "Rango de Velocidades=%{x}<br>Cantidad de Accesos=%{text}<extra></extra>",
         "legendgroup": "+ 10 Mbps - 20 Mbps",
         "marker": {
          "color": "#FFA15A",
          "pattern": {
           "shape": ""
          }
         },
         "name": "+ 10 Mbps - 20 Mbps",
         "offsetgroup": "+ 10 Mbps - 20 Mbps",
         "orientation": "v",
         "showlegend": true,
         "text": [
          244528
         ],
         "textposition": "outside",
         "type": "bar",
         "x": [
          "+ 10 Mbps - 20 Mbps"
         ],
         "xaxis": "x",
         "y": [
          244528
         ],
         "yaxis": "y"
        },
        {
         "alignmentgroup": "True",
         "hovertemplate": "Rango de Velocidades=%{x}<br>Cantidad de Accesos=%{text}<extra></extra>",
         "legendgroup": "+ 20 Mbps - 30 Mbps",
         "marker": {
          "color": "#19d3f3",
          "pattern": {
           "shape": ""
          }
         },
         "name": "+ 20 Mbps - 30 Mbps",
         "offsetgroup": "+ 20 Mbps - 30 Mbps",
         "orientation": "v",
         "showlegend": true,
         "text": [
          106302
         ],
         "textposition": "outside",
         "type": "bar",
         "x": [
          "+ 20 Mbps - 30 Mbps"
         ],
         "xaxis": "x",
         "y": [
          106302
         ],
         "yaxis": "y"
        },
        {
         "alignmentgroup": "True",
         "hovertemplate": "Rango de Velocidades=%{x}<br>Cantidad de Accesos=%{text}<extra></extra>",
         "legendgroup": "+ 30 Mbps",
         "marker": {
          "color": "#FF6692",
          "pattern": {
           "shape": ""
          }
         },
         "name": "+ 30 Mbps",
         "offsetgroup": "+ 30 Mbps",
         "orientation": "v",
         "showlegend": true,
         "text": [
          4020395
         ],
         "textposition": "outside",
         "type": "bar",
         "x": [
          "+ 30 Mbps"
         ],
         "xaxis": "x",
         "y": [
          4020395
         ],
         "yaxis": "y"
        },
        {
         "alignmentgroup": "True",
         "hovertemplate": "Rango de Velocidades=%{x}<br>Cantidad de Accesos=%{text}<extra></extra>",
         "legendgroup": "OTROS",
         "marker": {
          "color": "#B6E880",
          "pattern": {
           "shape": ""
          }
         },
         "name": "OTROS",
         "offsetgroup": "OTROS",
         "orientation": "v",
         "showlegend": true,
         "text": [
          125547
         ],
         "textposition": "outside",
         "type": "bar",
         "x": [
          "OTROS"
         ],
         "xaxis": "x",
         "y": [
          125547
         ],
         "yaxis": "y"
        }
       ],
       "layout": {
        "barmode": "relative",
        "legend": {
         "title": {
          "text": "Rango de Velocidades"
         },
         "tracegroupgap": 0
        },
        "template": {
         "data": {
          "bar": [
           {
            "error_x": {
             "color": "#2a3f5f"
            },
            "error_y": {
             "color": "#2a3f5f"
            },
            "marker": {
             "line": {
              "color": "#E5ECF6",
              "width": 0.5
             },
             "pattern": {
              "fillmode": "overlay",
              "size": 10,
              "solidity": 0.2
             }
            },
            "type": "bar"
           }
          ],
          "barpolar": [
           {
            "marker": {
             "line": {
              "color": "#E5ECF6",
              "width": 0.5
             },
             "pattern": {
              "fillmode": "overlay",
              "size": 10,
              "solidity": 0.2
             }
            },
            "type": "barpolar"
           }
          ],
          "carpet": [
           {
            "aaxis": {
             "endlinecolor": "#2a3f5f",
             "gridcolor": "white",
             "linecolor": "white",
             "minorgridcolor": "white",
             "startlinecolor": "#2a3f5f"
            },
            "baxis": {
             "endlinecolor": "#2a3f5f",
             "gridcolor": "white",
             "linecolor": "white",
             "minorgridcolor": "white",
             "startlinecolor": "#2a3f5f"
            },
            "type": "carpet"
           }
          ],
          "choropleth": [
           {
            "colorbar": {
             "outlinewidth": 0,
             "ticks": ""
            },
            "type": "choropleth"
           }
          ],
          "contour": [
           {
            "colorbar": {
             "outlinewidth": 0,
             "ticks": ""
            },
            "colorscale": [
             [
              0,
              "#0d0887"
             ],
             [
              0.1111111111111111,
              "#46039f"
             ],
             [
              0.2222222222222222,
              "#7201a8"
             ],
             [
              0.3333333333333333,
              "#9c179e"
             ],
             [
              0.4444444444444444,
              "#bd3786"
             ],
             [
              0.5555555555555556,
              "#d8576b"
             ],
             [
              0.6666666666666666,
              "#ed7953"
             ],
             [
              0.7777777777777778,
              "#fb9f3a"
             ],
             [
              0.8888888888888888,
              "#fdca26"
             ],
             [
              1,
              "#f0f921"
             ]
            ],
            "type": "contour"
           }
          ],
          "contourcarpet": [
           {
            "colorbar": {
             "outlinewidth": 0,
             "ticks": ""
            },
            "type": "contourcarpet"
           }
          ],
          "heatmap": [
           {
            "colorbar": {
             "outlinewidth": 0,
             "ticks": ""
            },
            "colorscale": [
             [
              0,
              "#0d0887"
             ],
             [
              0.1111111111111111,
              "#46039f"
             ],
             [
              0.2222222222222222,
              "#7201a8"
             ],
             [
              0.3333333333333333,
              "#9c179e"
             ],
             [
              0.4444444444444444,
              "#bd3786"
             ],
             [
              0.5555555555555556,
              "#d8576b"
             ],
             [
              0.6666666666666666,
              "#ed7953"
             ],
             [
              0.7777777777777778,
              "#fb9f3a"
             ],
             [
              0.8888888888888888,
              "#fdca26"
             ],
             [
              1,
              "#f0f921"
             ]
            ],
            "type": "heatmap"
           }
          ],
          "heatmapgl": [
           {
            "colorbar": {
             "outlinewidth": 0,
             "ticks": ""
            },
            "colorscale": [
             [
              0,
              "#0d0887"
             ],
             [
              0.1111111111111111,
              "#46039f"
             ],
             [
              0.2222222222222222,
              "#7201a8"
             ],
             [
              0.3333333333333333,
              "#9c179e"
             ],
             [
              0.4444444444444444,
              "#bd3786"
             ],
             [
              0.5555555555555556,
              "#d8576b"
             ],
             [
              0.6666666666666666,
              "#ed7953"
             ],
             [
              0.7777777777777778,
              "#fb9f3a"
             ],
             [
              0.8888888888888888,
              "#fdca26"
             ],
             [
              1,
              "#f0f921"
             ]
            ],
            "type": "heatmapgl"
           }
          ],
          "histogram": [
           {
            "marker": {
             "pattern": {
              "fillmode": "overlay",
              "size": 10,
              "solidity": 0.2
             }
            },
            "type": "histogram"
           }
          ],
          "histogram2d": [
           {
            "colorbar": {
             "outlinewidth": 0,
             "ticks": ""
            },
            "colorscale": [
             [
              0,
              "#0d0887"
             ],
             [
              0.1111111111111111,
              "#46039f"
             ],
             [
              0.2222222222222222,
              "#7201a8"
             ],
             [
              0.3333333333333333,
              "#9c179e"
             ],
             [
              0.4444444444444444,
              "#bd3786"
             ],
             [
              0.5555555555555556,
              "#d8576b"
             ],
             [
              0.6666666666666666,
              "#ed7953"
             ],
             [
              0.7777777777777778,
              "#fb9f3a"
             ],
             [
              0.8888888888888888,
              "#fdca26"
             ],
             [
              1,
              "#f0f921"
             ]
            ],
            "type": "histogram2d"
           }
          ],
          "histogram2dcontour": [
           {
            "colorbar": {
             "outlinewidth": 0,
             "ticks": ""
            },
            "colorscale": [
             [
              0,
              "#0d0887"
             ],
             [
              0.1111111111111111,
              "#46039f"
             ],
             [
              0.2222222222222222,
              "#7201a8"
             ],
             [
              0.3333333333333333,
              "#9c179e"
             ],
             [
              0.4444444444444444,
              "#bd3786"
             ],
             [
              0.5555555555555556,
              "#d8576b"
             ],
             [
              0.6666666666666666,
              "#ed7953"
             ],
             [
              0.7777777777777778,
              "#fb9f3a"
             ],
             [
              0.8888888888888888,
              "#fdca26"
             ],
             [
              1,
              "#f0f921"
             ]
            ],
            "type": "histogram2dcontour"
           }
          ],
          "mesh3d": [
           {
            "colorbar": {
             "outlinewidth": 0,
             "ticks": ""
            },
            "type": "mesh3d"
           }
          ],
          "parcoords": [
           {
            "line": {
             "colorbar": {
              "outlinewidth": 0,
              "ticks": ""
             }
            },
            "type": "parcoords"
           }
          ],
          "pie": [
           {
            "automargin": true,
            "type": "pie"
           }
          ],
          "scatter": [
           {
            "fillpattern": {
             "fillmode": "overlay",
             "size": 10,
             "solidity": 0.2
            },
            "type": "scatter"
           }
          ],
          "scatter3d": [
           {
            "line": {
             "colorbar": {
              "outlinewidth": 0,
              "ticks": ""
             }
            },
            "marker": {
             "colorbar": {
              "outlinewidth": 0,
              "ticks": ""
             }
            },
            "type": "scatter3d"
           }
          ],
          "scattercarpet": [
           {
            "marker": {
             "colorbar": {
              "outlinewidth": 0,
              "ticks": ""
             }
            },
            "type": "scattercarpet"
           }
          ],
          "scattergeo": [
           {
            "marker": {
             "colorbar": {
              "outlinewidth": 0,
              "ticks": ""
             }
            },
            "type": "scattergeo"
           }
          ],
          "scattergl": [
           {
            "marker": {
             "colorbar": {
              "outlinewidth": 0,
              "ticks": ""
             }
            },
            "type": "scattergl"
           }
          ],
          "scattermapbox": [
           {
            "marker": {
             "colorbar": {
              "outlinewidth": 0,
              "ticks": ""
             }
            },
            "type": "scattermapbox"
           }
          ],
          "scatterpolar": [
           {
            "marker": {
             "colorbar": {
              "outlinewidth": 0,
              "ticks": ""
             }
            },
            "type": "scatterpolar"
           }
          ],
          "scatterpolargl": [
           {
            "marker": {
             "colorbar": {
              "outlinewidth": 0,
              "ticks": ""
             }
            },
            "type": "scatterpolargl"
           }
          ],
          "scatterternary": [
           {
            "marker": {
             "colorbar": {
              "outlinewidth": 0,
              "ticks": ""
             }
            },
            "type": "scatterternary"
           }
          ],
          "surface": [
           {
            "colorbar": {
             "outlinewidth": 0,
             "ticks": ""
            },
            "colorscale": [
             [
              0,
              "#0d0887"
             ],
             [
              0.1111111111111111,
              "#46039f"
             ],
             [
              0.2222222222222222,
              "#7201a8"
             ],
             [
              0.3333333333333333,
              "#9c179e"
             ],
             [
              0.4444444444444444,
              "#bd3786"
             ],
             [
              0.5555555555555556,
              "#d8576b"
             ],
             [
              0.6666666666666666,
              "#ed7953"
             ],
             [
              0.7777777777777778,
              "#fb9f3a"
             ],
             [
              0.8888888888888888,
              "#fdca26"
             ],
             [
              1,
              "#f0f921"
             ]
            ],
            "type": "surface"
           }
          ],
          "table": [
           {
            "cells": {
             "fill": {
              "color": "#EBF0F8"
             },
             "line": {
              "color": "white"
             }
            },
            "header": {
             "fill": {
              "color": "#C8D4E3"
             },
             "line": {
              "color": "white"
             }
            },
            "type": "table"
           }
          ]
         },
         "layout": {
          "annotationdefaults": {
           "arrowcolor": "#2a3f5f",
           "arrowhead": 0,
           "arrowwidth": 1
          },
          "autotypenumbers": "strict",
          "coloraxis": {
           "colorbar": {
            "outlinewidth": 0,
            "ticks": ""
           }
          },
          "colorscale": {
           "diverging": [
            [
             0,
             "#8e0152"
            ],
            [
             0.1,
             "#c51b7d"
            ],
            [
             0.2,
             "#de77ae"
            ],
            [
             0.3,
             "#f1b6da"
            ],
            [
             0.4,
             "#fde0ef"
            ],
            [
             0.5,
             "#f7f7f7"
            ],
            [
             0.6,
             "#e6f5d0"
            ],
            [
             0.7,
             "#b8e186"
            ],
            [
             0.8,
             "#7fbc41"
            ],
            [
             0.9,
             "#4d9221"
            ],
            [
             1,
             "#276419"
            ]
           ],
           "sequential": [
            [
             0,
             "#0d0887"
            ],
            [
             0.1111111111111111,
             "#46039f"
            ],
            [
             0.2222222222222222,
             "#7201a8"
            ],
            [
             0.3333333333333333,
             "#9c179e"
            ],
            [
             0.4444444444444444,
             "#bd3786"
            ],
            [
             0.5555555555555556,
             "#d8576b"
            ],
            [
             0.6666666666666666,
             "#ed7953"
            ],
            [
             0.7777777777777778,
             "#fb9f3a"
            ],
            [
             0.8888888888888888,
             "#fdca26"
            ],
            [
             1,
             "#f0f921"
            ]
           ],
           "sequentialminus": [
            [
             0,
             "#0d0887"
            ],
            [
             0.1111111111111111,
             "#46039f"
            ],
            [
             0.2222222222222222,
             "#7201a8"
            ],
            [
             0.3333333333333333,
             "#9c179e"
            ],
            [
             0.4444444444444444,
             "#bd3786"
            ],
            [
             0.5555555555555556,
             "#d8576b"
            ],
            [
             0.6666666666666666,
             "#ed7953"
            ],
            [
             0.7777777777777778,
             "#fb9f3a"
            ],
            [
             0.8888888888888888,
             "#fdca26"
            ],
            [
             1,
             "#f0f921"
            ]
           ]
          },
          "colorway": [
           "#636efa",
           "#EF553B",
           "#00cc96",
           "#ab63fa",
           "#FFA15A",
           "#19d3f3",
           "#FF6692",
           "#B6E880",
           "#FF97FF",
           "#FECB52"
          ],
          "font": {
           "color": "#2a3f5f"
          },
          "geo": {
           "bgcolor": "white",
           "lakecolor": "white",
           "landcolor": "#E5ECF6",
           "showlakes": true,
           "showland": true,
           "subunitcolor": "white"
          },
          "hoverlabel": {
           "align": "left"
          },
          "hovermode": "closest",
          "mapbox": {
           "style": "light"
          },
          "paper_bgcolor": "white",
          "plot_bgcolor": "#E5ECF6",
          "polar": {
           "angularaxis": {
            "gridcolor": "white",
            "linecolor": "white",
            "ticks": ""
           },
           "bgcolor": "#E5ECF6",
           "radialaxis": {
            "gridcolor": "white",
            "linecolor": "white",
            "ticks": ""
           }
          },
          "scene": {
           "xaxis": {
            "backgroundcolor": "#E5ECF6",
            "gridcolor": "white",
            "gridwidth": 2,
            "linecolor": "white",
            "showbackground": true,
            "ticks": "",
            "zerolinecolor": "white"
           },
           "yaxis": {
            "backgroundcolor": "#E5ECF6",
            "gridcolor": "white",
            "gridwidth": 2,
            "linecolor": "white",
            "showbackground": true,
            "ticks": "",
            "zerolinecolor": "white"
           },
           "zaxis": {
            "backgroundcolor": "#E5ECF6",
            "gridcolor": "white",
            "gridwidth": 2,
            "linecolor": "white",
            "showbackground": true,
            "ticks": "",
            "zerolinecolor": "white"
           }
          },
          "shapedefaults": {
           "line": {
            "color": "#2a3f5f"
           }
          },
          "ternary": {
           "aaxis": {
            "gridcolor": "white",
            "linecolor": "white",
            "ticks": ""
           },
           "baxis": {
            "gridcolor": "white",
            "linecolor": "white",
            "ticks": ""
           },
           "bgcolor": "#E5ECF6",
           "caxis": {
            "gridcolor": "white",
            "linecolor": "white",
            "ticks": ""
           }
          },
          "title": {
           "x": 0.05
          },
          "xaxis": {
           "automargin": true,
           "gridcolor": "white",
           "linecolor": "white",
           "ticks": "",
           "title": {
            "standoff": 15
           },
           "zerolinecolor": "white",
           "zerolinewidth": 2
          },
          "yaxis": {
           "automargin": true,
           "gridcolor": "white",
           "linecolor": "white",
           "ticks": "",
           "title": {
            "standoff": 15
           },
           "zerolinecolor": "white",
           "zerolinewidth": 2
          }
         }
        },
        "title": {
         "text": "Distribución de Accesos por Velocidades en Buenos Aires (2 2024)"
        },
        "xaxis": {
         "anchor": "y",
         "categoryarray": [
          "HASTA 512 kbps",
          "+ 512 Kbps - 1 Mbps",
          "+ 1 Mbps - 6 Mbps",
          "+ 6 Mbps - 10 Mbps",
          "+ 10 Mbps - 20 Mbps",
          "+ 20 Mbps - 30 Mbps",
          "+ 30 Mbps",
          "OTROS"
         ],
         "categoryorder": "array",
         "domain": [
          0,
          1
         ],
         "title": {
          "text": "Rango de Velocidades"
         }
        },
        "yaxis": {
         "anchor": "x",
         "domain": [
          0,
          1
         ],
         "title": {
          "text": "Cantidad de Accesos"
         }
        }
       }
      }
     },
     "metadata": {},
     "output_type": "display_data"
    },
    {
     "data": {
      "application/vnd.jupyter.widget-view+json": {
       "model_id": "0d573f2a6f1f437bbfbafac411702443",
       "version_major": 2,
       "version_minor": 0
      },
      "text/plain": [
       "VBox(children=(HBox(children=(Dropdown(description='Provincia:', options=('Buenos Aires', 'Capital Federal', '…"
      ]
     },
     "metadata": {},
     "output_type": "display_data"
    }
   ],
   "source": [
    "from graficos import DistribucionAccesos\n",
    "\n",
    "distribucion_accesos = DistribucionAccesos(dataframes[\"Accesos por rangos\"])\n",
    "distribucion_accesos.display()"
   ]
  },
  {
   "cell_type": "markdown",
   "id": "b6fb40c4",
   "metadata": {},
   "source": [
    "![imagen](src/dist_acc_vel_trim_buen_2022.png)"
   ]
  },
  {
   "cell_type": "markdown",
   "id": "1e0c7518",
   "metadata": {},
   "source": [
    "## Total Accesos por Velocidad según año y trimestre\n",
    "\n",
    "El gráfico refleja una clara tendencia hacia velocidades superiores a 30 Mbps, lo que indica un mercado que prioriza conexiones rápidas para satisfacer las demandas modernas.\n",
    "Las velocidades bajas están casi extintas, y las conexiones de rangos intermedios (1 Mbps - 20 Mbps) podrían estar en transición hacia velocidades superiores.\n",
    "Este escenario también resalta el impacto de las inversiones en infraestructura (principalmente fibra óptica y cablemodem) y la obsolescencia de tecnologías tradicionales."
   ]
  },
  {
   "cell_type": "code",
   "execution_count": 30,
   "id": "3d015a00",
   "metadata": {},
   "outputs": [
    {
     "data": {
      "application/vnd.plotly.v1+json": {
       "config": {
        "plotlyServerURL": "https://plot.ly"
       },
       "data": [
        {
         "alignmentgroup": "True",
         "hovertemplate": "Rango de Velocidad=%{x}<br>Cantidad de Accesos=%{y}<br>text=%{text}<extra></extra>",
         "legendgroup": "",
         "marker": {
          "color": [
           "blue",
           "green",
           "orange",
           "purple",
           "red",
           "brown",
           "pink",
           "gray"
          ],
          "pattern": {
           "shape": ""
          }
         },
         "name": "",
         "offsetgroup": "",
         "orientation": "v",
         "showlegend": false,
         "text": [
          28151,
          67024,
          840200,
          911374,
          662649,
          348253,
          8357088,
          341368
         ],
         "textposition": "outside",
         "type": "bar",
         "x": [
          "Hasta 512 kbps",
          "Entre 512 Kbps y 1 Mbps",
          "Entre 1 Mbps y 6 Mbps",
          "Entre 6 Mbps y 10 Mbps",
          "Entre 10 Mbps y 20 Mbps",
          "Entre 20 Mbps y 30 Mbps",
          "Más de 30 Mbps",
          "OTROS"
         ],
         "xaxis": "x",
         "y": [
          28151,
          67024,
          840200,
          911374,
          662649,
          348253,
          8357088,
          341368
         ],
         "yaxis": "y"
        }
       ],
       "layout": {
        "barmode": "relative",
        "legend": {
         "tracegroupgap": 0
        },
        "template": {
         "data": {
          "bar": [
           {
            "error_x": {
             "color": "#2a3f5f"
            },
            "error_y": {
             "color": "#2a3f5f"
            },
            "marker": {
             "line": {
              "color": "#E5ECF6",
              "width": 0.5
             },
             "pattern": {
              "fillmode": "overlay",
              "size": 10,
              "solidity": 0.2
             }
            },
            "type": "bar"
           }
          ],
          "barpolar": [
           {
            "marker": {
             "line": {
              "color": "#E5ECF6",
              "width": 0.5
             },
             "pattern": {
              "fillmode": "overlay",
              "size": 10,
              "solidity": 0.2
             }
            },
            "type": "barpolar"
           }
          ],
          "carpet": [
           {
            "aaxis": {
             "endlinecolor": "#2a3f5f",
             "gridcolor": "white",
             "linecolor": "white",
             "minorgridcolor": "white",
             "startlinecolor": "#2a3f5f"
            },
            "baxis": {
             "endlinecolor": "#2a3f5f",
             "gridcolor": "white",
             "linecolor": "white",
             "minorgridcolor": "white",
             "startlinecolor": "#2a3f5f"
            },
            "type": "carpet"
           }
          ],
          "choropleth": [
           {
            "colorbar": {
             "outlinewidth": 0,
             "ticks": ""
            },
            "type": "choropleth"
           }
          ],
          "contour": [
           {
            "colorbar": {
             "outlinewidth": 0,
             "ticks": ""
            },
            "colorscale": [
             [
              0,
              "#0d0887"
             ],
             [
              0.1111111111111111,
              "#46039f"
             ],
             [
              0.2222222222222222,
              "#7201a8"
             ],
             [
              0.3333333333333333,
              "#9c179e"
             ],
             [
              0.4444444444444444,
              "#bd3786"
             ],
             [
              0.5555555555555556,
              "#d8576b"
             ],
             [
              0.6666666666666666,
              "#ed7953"
             ],
             [
              0.7777777777777778,
              "#fb9f3a"
             ],
             [
              0.8888888888888888,
              "#fdca26"
             ],
             [
              1,
              "#f0f921"
             ]
            ],
            "type": "contour"
           }
          ],
          "contourcarpet": [
           {
            "colorbar": {
             "outlinewidth": 0,
             "ticks": ""
            },
            "type": "contourcarpet"
           }
          ],
          "heatmap": [
           {
            "colorbar": {
             "outlinewidth": 0,
             "ticks": ""
            },
            "colorscale": [
             [
              0,
              "#0d0887"
             ],
             [
              0.1111111111111111,
              "#46039f"
             ],
             [
              0.2222222222222222,
              "#7201a8"
             ],
             [
              0.3333333333333333,
              "#9c179e"
             ],
             [
              0.4444444444444444,
              "#bd3786"
             ],
             [
              0.5555555555555556,
              "#d8576b"
             ],
             [
              0.6666666666666666,
              "#ed7953"
             ],
             [
              0.7777777777777778,
              "#fb9f3a"
             ],
             [
              0.8888888888888888,
              "#fdca26"
             ],
             [
              1,
              "#f0f921"
             ]
            ],
            "type": "heatmap"
           }
          ],
          "heatmapgl": [
           {
            "colorbar": {
             "outlinewidth": 0,
             "ticks": ""
            },
            "colorscale": [
             [
              0,
              "#0d0887"
             ],
             [
              0.1111111111111111,
              "#46039f"
             ],
             [
              0.2222222222222222,
              "#7201a8"
             ],
             [
              0.3333333333333333,
              "#9c179e"
             ],
             [
              0.4444444444444444,
              "#bd3786"
             ],
             [
              0.5555555555555556,
              "#d8576b"
             ],
             [
              0.6666666666666666,
              "#ed7953"
             ],
             [
              0.7777777777777778,
              "#fb9f3a"
             ],
             [
              0.8888888888888888,
              "#fdca26"
             ],
             [
              1,
              "#f0f921"
             ]
            ],
            "type": "heatmapgl"
           }
          ],
          "histogram": [
           {
            "marker": {
             "pattern": {
              "fillmode": "overlay",
              "size": 10,
              "solidity": 0.2
             }
            },
            "type": "histogram"
           }
          ],
          "histogram2d": [
           {
            "colorbar": {
             "outlinewidth": 0,
             "ticks": ""
            },
            "colorscale": [
             [
              0,
              "#0d0887"
             ],
             [
              0.1111111111111111,
              "#46039f"
             ],
             [
              0.2222222222222222,
              "#7201a8"
             ],
             [
              0.3333333333333333,
              "#9c179e"
             ],
             [
              0.4444444444444444,
              "#bd3786"
             ],
             [
              0.5555555555555556,
              "#d8576b"
             ],
             [
              0.6666666666666666,
              "#ed7953"
             ],
             [
              0.7777777777777778,
              "#fb9f3a"
             ],
             [
              0.8888888888888888,
              "#fdca26"
             ],
             [
              1,
              "#f0f921"
             ]
            ],
            "type": "histogram2d"
           }
          ],
          "histogram2dcontour": [
           {
            "colorbar": {
             "outlinewidth": 0,
             "ticks": ""
            },
            "colorscale": [
             [
              0,
              "#0d0887"
             ],
             [
              0.1111111111111111,
              "#46039f"
             ],
             [
              0.2222222222222222,
              "#7201a8"
             ],
             [
              0.3333333333333333,
              "#9c179e"
             ],
             [
              0.4444444444444444,
              "#bd3786"
             ],
             [
              0.5555555555555556,
              "#d8576b"
             ],
             [
              0.6666666666666666,
              "#ed7953"
             ],
             [
              0.7777777777777778,
              "#fb9f3a"
             ],
             [
              0.8888888888888888,
              "#fdca26"
             ],
             [
              1,
              "#f0f921"
             ]
            ],
            "type": "histogram2dcontour"
           }
          ],
          "mesh3d": [
           {
            "colorbar": {
             "outlinewidth": 0,
             "ticks": ""
            },
            "type": "mesh3d"
           }
          ],
          "parcoords": [
           {
            "line": {
             "colorbar": {
              "outlinewidth": 0,
              "ticks": ""
             }
            },
            "type": "parcoords"
           }
          ],
          "pie": [
           {
            "automargin": true,
            "type": "pie"
           }
          ],
          "scatter": [
           {
            "fillpattern": {
             "fillmode": "overlay",
             "size": 10,
             "solidity": 0.2
            },
            "type": "scatter"
           }
          ],
          "scatter3d": [
           {
            "line": {
             "colorbar": {
              "outlinewidth": 0,
              "ticks": ""
             }
            },
            "marker": {
             "colorbar": {
              "outlinewidth": 0,
              "ticks": ""
             }
            },
            "type": "scatter3d"
           }
          ],
          "scattercarpet": [
           {
            "marker": {
             "colorbar": {
              "outlinewidth": 0,
              "ticks": ""
             }
            },
            "type": "scattercarpet"
           }
          ],
          "scattergeo": [
           {
            "marker": {
             "colorbar": {
              "outlinewidth": 0,
              "ticks": ""
             }
            },
            "type": "scattergeo"
           }
          ],
          "scattergl": [
           {
            "marker": {
             "colorbar": {
              "outlinewidth": 0,
              "ticks": ""
             }
            },
            "type": "scattergl"
           }
          ],
          "scattermapbox": [
           {
            "marker": {
             "colorbar": {
              "outlinewidth": 0,
              "ticks": ""
             }
            },
            "type": "scattermapbox"
           }
          ],
          "scatterpolar": [
           {
            "marker": {
             "colorbar": {
              "outlinewidth": 0,
              "ticks": ""
             }
            },
            "type": "scatterpolar"
           }
          ],
          "scatterpolargl": [
           {
            "marker": {
             "colorbar": {
              "outlinewidth": 0,
              "ticks": ""
             }
            },
            "type": "scatterpolargl"
           }
          ],
          "scatterternary": [
           {
            "marker": {
             "colorbar": {
              "outlinewidth": 0,
              "ticks": ""
             }
            },
            "type": "scatterternary"
           }
          ],
          "surface": [
           {
            "colorbar": {
             "outlinewidth": 0,
             "ticks": ""
            },
            "colorscale": [
             [
              0,
              "#0d0887"
             ],
             [
              0.1111111111111111,
              "#46039f"
             ],
             [
              0.2222222222222222,
              "#7201a8"
             ],
             [
              0.3333333333333333,
              "#9c179e"
             ],
             [
              0.4444444444444444,
              "#bd3786"
             ],
             [
              0.5555555555555556,
              "#d8576b"
             ],
             [
              0.6666666666666666,
              "#ed7953"
             ],
             [
              0.7777777777777778,
              "#fb9f3a"
             ],
             [
              0.8888888888888888,
              "#fdca26"
             ],
             [
              1,
              "#f0f921"
             ]
            ],
            "type": "surface"
           }
          ],
          "table": [
           {
            "cells": {
             "fill": {
              "color": "#EBF0F8"
             },
             "line": {
              "color": "white"
             }
            },
            "header": {
             "fill": {
              "color": "#C8D4E3"
             },
             "line": {
              "color": "white"
             }
            },
            "type": "table"
           }
          ]
         },
         "layout": {
          "annotationdefaults": {
           "arrowcolor": "#2a3f5f",
           "arrowhead": 0,
           "arrowwidth": 1
          },
          "autotypenumbers": "strict",
          "coloraxis": {
           "colorbar": {
            "outlinewidth": 0,
            "ticks": ""
           }
          },
          "colorscale": {
           "diverging": [
            [
             0,
             "#8e0152"
            ],
            [
             0.1,
             "#c51b7d"
            ],
            [
             0.2,
             "#de77ae"
            ],
            [
             0.3,
             "#f1b6da"
            ],
            [
             0.4,
             "#fde0ef"
            ],
            [
             0.5,
             "#f7f7f7"
            ],
            [
             0.6,
             "#e6f5d0"
            ],
            [
             0.7,
             "#b8e186"
            ],
            [
             0.8,
             "#7fbc41"
            ],
            [
             0.9,
             "#4d9221"
            ],
            [
             1,
             "#276419"
            ]
           ],
           "sequential": [
            [
             0,
             "#0d0887"
            ],
            [
             0.1111111111111111,
             "#46039f"
            ],
            [
             0.2222222222222222,
             "#7201a8"
            ],
            [
             0.3333333333333333,
             "#9c179e"
            ],
            [
             0.4444444444444444,
             "#bd3786"
            ],
            [
             0.5555555555555556,
             "#d8576b"
            ],
            [
             0.6666666666666666,
             "#ed7953"
            ],
            [
             0.7777777777777778,
             "#fb9f3a"
            ],
            [
             0.8888888888888888,
             "#fdca26"
            ],
            [
             1,
             "#f0f921"
            ]
           ],
           "sequentialminus": [
            [
             0,
             "#0d0887"
            ],
            [
             0.1111111111111111,
             "#46039f"
            ],
            [
             0.2222222222222222,
             "#7201a8"
            ],
            [
             0.3333333333333333,
             "#9c179e"
            ],
            [
             0.4444444444444444,
             "#bd3786"
            ],
            [
             0.5555555555555556,
             "#d8576b"
            ],
            [
             0.6666666666666666,
             "#ed7953"
            ],
            [
             0.7777777777777778,
             "#fb9f3a"
            ],
            [
             0.8888888888888888,
             "#fdca26"
            ],
            [
             1,
             "#f0f921"
            ]
           ]
          },
          "colorway": [
           "#636efa",
           "#EF553B",
           "#00cc96",
           "#ab63fa",
           "#FFA15A",
           "#19d3f3",
           "#FF6692",
           "#B6E880",
           "#FF97FF",
           "#FECB52"
          ],
          "font": {
           "color": "#2a3f5f"
          },
          "geo": {
           "bgcolor": "white",
           "lakecolor": "white",
           "landcolor": "#E5ECF6",
           "showlakes": true,
           "showland": true,
           "subunitcolor": "white"
          },
          "hoverlabel": {
           "align": "left"
          },
          "hovermode": "closest",
          "mapbox": {
           "style": "light"
          },
          "paper_bgcolor": "white",
          "plot_bgcolor": "#E5ECF6",
          "polar": {
           "angularaxis": {
            "gridcolor": "white",
            "linecolor": "white",
            "ticks": ""
           },
           "bgcolor": "#E5ECF6",
           "radialaxis": {
            "gridcolor": "white",
            "linecolor": "white",
            "ticks": ""
           }
          },
          "scene": {
           "xaxis": {
            "backgroundcolor": "#E5ECF6",
            "gridcolor": "white",
            "gridwidth": 2,
            "linecolor": "white",
            "showbackground": true,
            "ticks": "",
            "zerolinecolor": "white"
           },
           "yaxis": {
            "backgroundcolor": "#E5ECF6",
            "gridcolor": "white",
            "gridwidth": 2,
            "linecolor": "white",
            "showbackground": true,
            "ticks": "",
            "zerolinecolor": "white"
           },
           "zaxis": {
            "backgroundcolor": "#E5ECF6",
            "gridcolor": "white",
            "gridwidth": 2,
            "linecolor": "white",
            "showbackground": true,
            "ticks": "",
            "zerolinecolor": "white"
           }
          },
          "shapedefaults": {
           "line": {
            "color": "#2a3f5f"
           }
          },
          "ternary": {
           "aaxis": {
            "gridcolor": "white",
            "linecolor": "white",
            "ticks": ""
           },
           "baxis": {
            "gridcolor": "white",
            "linecolor": "white",
            "ticks": ""
           },
           "bgcolor": "#E5ECF6",
           "caxis": {
            "gridcolor": "white",
            "linecolor": "white",
            "ticks": ""
           }
          },
          "title": {
           "x": 0.05
          },
          "xaxis": {
           "automargin": true,
           "gridcolor": "white",
           "linecolor": "white",
           "ticks": "",
           "title": {
            "standoff": 15
           },
           "zerolinecolor": "white",
           "zerolinewidth": 2
          },
          "yaxis": {
           "automargin": true,
           "gridcolor": "white",
           "linecolor": "white",
           "ticks": "",
           "title": {
            "standoff": 15
           },
           "zerolinecolor": "white",
           "zerolinewidth": 2
          }
         }
        },
        "title": {
         "text": "Distribución de Accesos por Velocidad (2024 - Trimestre 2)"
        },
        "xaxis": {
         "anchor": "y",
         "domain": [
          0,
          1
         ],
         "title": {
          "text": "Rango de Velocidad"
         }
        },
        "yaxis": {
         "anchor": "x",
         "domain": [
          0,
          1
         ],
         "title": {
          "text": "Cantidad de Accesos"
         }
        }
       }
      }
     },
     "metadata": {},
     "output_type": "display_data"
    },
    {
     "data": {
      "application/vnd.jupyter.widget-view+json": {
       "model_id": "d8eb934cc4164ea1b9696437680d6f28",
       "version_major": 2,
       "version_minor": 0
      },
      "text/plain": [
       "VBox(children=(HBox(children=(Dropdown(description='Año:', options=(np.int64(2024), np.int64(2023), np.int64(2…"
      ]
     },
     "metadata": {},
     "output_type": "display_data"
    }
   ],
   "source": [
    "from graficos import TotalAccesosPorRango\n",
    "\n",
    "grafico_accesos = TotalAccesosPorRango(dataframes[\"Totales Accesos por rango\"])\n",
    "grafico_accesos.display()"
   ]
  },
  {
   "cell_type": "markdown",
   "id": "ff16e3b4",
   "metadata": {},
   "source": [
    "![imagen](src/dist_acc_vel_rang_2024.png)"
   ]
  },
  {
   "cell_type": "markdown",
   "id": "78f342a8",
   "metadata": {},
   "source": [
    "## Distribución de Accesos por tecnología según el año y trimestre\n",
    "\n",
    "Cablemodem y Fibra óptica dominan el mercado de accesos a internet, lo que refleja una madurez tecnológica en la infraestructura de red.\n",
    "ADSL está quedando obsoleto, mientras que Wireless y \"Otros\" tienen participación residual, probablemente en mercados específicos o regiones con limitaciones tecnológicas.\n",
    "Es probable que en los próximos años la fibra óptica supere a Cablemodem en participación, impulsada por su capacidad de satisfacer las crecientes demandas de velocidad y confiabilidad."
   ]
  },
  {
   "cell_type": "code",
   "execution_count": 31,
   "id": "06b8f9f1",
   "metadata": {},
   "outputs": [
    {
     "data": {
      "application/vnd.plotly.v1+json": {
       "config": {
        "plotlyServerURL": "https://plot.ly"
       },
       "data": [
        {
         "alignmentgroup": "True",
         "hovertemplate": "Cantidad de Accesos=%{x}<br>Tecnología=%{y}<br>text=%{text}<extra></extra>",
         "legendgroup": "",
         "marker": {
          "color": [
           "blue",
           "green",
           "orange",
           "purple",
           "red"
          ],
          "pattern": {
           "shape": ""
          }
         },
         "name": "",
         "offsetgroup": "",
         "orientation": "h",
         "showlegend": false,
         "text": [
          733491,
          5867504,
          4169958,
          593197,
          191957
         ],
         "textposition": "outside",
         "type": "bar",
         "x": [
          733491,
          5867504,
          4169958,
          593197,
          191957
         ],
         "xaxis": "x",
         "y": [
          "ADSL",
          "Cablemodem",
          "Fibra óptica",
          "Wireless",
          "Otros"
         ],
         "yaxis": "y"
        }
       ],
       "layout": {
        "barmode": "relative",
        "legend": {
         "tracegroupgap": 0
        },
        "template": {
         "data": {
          "bar": [
           {
            "error_x": {
             "color": "#2a3f5f"
            },
            "error_y": {
             "color": "#2a3f5f"
            },
            "marker": {
             "line": {
              "color": "#E5ECF6",
              "width": 0.5
             },
             "pattern": {
              "fillmode": "overlay",
              "size": 10,
              "solidity": 0.2
             }
            },
            "type": "bar"
           }
          ],
          "barpolar": [
           {
            "marker": {
             "line": {
              "color": "#E5ECF6",
              "width": 0.5
             },
             "pattern": {
              "fillmode": "overlay",
              "size": 10,
              "solidity": 0.2
             }
            },
            "type": "barpolar"
           }
          ],
          "carpet": [
           {
            "aaxis": {
             "endlinecolor": "#2a3f5f",
             "gridcolor": "white",
             "linecolor": "white",
             "minorgridcolor": "white",
             "startlinecolor": "#2a3f5f"
            },
            "baxis": {
             "endlinecolor": "#2a3f5f",
             "gridcolor": "white",
             "linecolor": "white",
             "minorgridcolor": "white",
             "startlinecolor": "#2a3f5f"
            },
            "type": "carpet"
           }
          ],
          "choropleth": [
           {
            "colorbar": {
             "outlinewidth": 0,
             "ticks": ""
            },
            "type": "choropleth"
           }
          ],
          "contour": [
           {
            "colorbar": {
             "outlinewidth": 0,
             "ticks": ""
            },
            "colorscale": [
             [
              0,
              "#0d0887"
             ],
             [
              0.1111111111111111,
              "#46039f"
             ],
             [
              0.2222222222222222,
              "#7201a8"
             ],
             [
              0.3333333333333333,
              "#9c179e"
             ],
             [
              0.4444444444444444,
              "#bd3786"
             ],
             [
              0.5555555555555556,
              "#d8576b"
             ],
             [
              0.6666666666666666,
              "#ed7953"
             ],
             [
              0.7777777777777778,
              "#fb9f3a"
             ],
             [
              0.8888888888888888,
              "#fdca26"
             ],
             [
              1,
              "#f0f921"
             ]
            ],
            "type": "contour"
           }
          ],
          "contourcarpet": [
           {
            "colorbar": {
             "outlinewidth": 0,
             "ticks": ""
            },
            "type": "contourcarpet"
           }
          ],
          "heatmap": [
           {
            "colorbar": {
             "outlinewidth": 0,
             "ticks": ""
            },
            "colorscale": [
             [
              0,
              "#0d0887"
             ],
             [
              0.1111111111111111,
              "#46039f"
             ],
             [
              0.2222222222222222,
              "#7201a8"
             ],
             [
              0.3333333333333333,
              "#9c179e"
             ],
             [
              0.4444444444444444,
              "#bd3786"
             ],
             [
              0.5555555555555556,
              "#d8576b"
             ],
             [
              0.6666666666666666,
              "#ed7953"
             ],
             [
              0.7777777777777778,
              "#fb9f3a"
             ],
             [
              0.8888888888888888,
              "#fdca26"
             ],
             [
              1,
              "#f0f921"
             ]
            ],
            "type": "heatmap"
           }
          ],
          "heatmapgl": [
           {
            "colorbar": {
             "outlinewidth": 0,
             "ticks": ""
            },
            "colorscale": [
             [
              0,
              "#0d0887"
             ],
             [
              0.1111111111111111,
              "#46039f"
             ],
             [
              0.2222222222222222,
              "#7201a8"
             ],
             [
              0.3333333333333333,
              "#9c179e"
             ],
             [
              0.4444444444444444,
              "#bd3786"
             ],
             [
              0.5555555555555556,
              "#d8576b"
             ],
             [
              0.6666666666666666,
              "#ed7953"
             ],
             [
              0.7777777777777778,
              "#fb9f3a"
             ],
             [
              0.8888888888888888,
              "#fdca26"
             ],
             [
              1,
              "#f0f921"
             ]
            ],
            "type": "heatmapgl"
           }
          ],
          "histogram": [
           {
            "marker": {
             "pattern": {
              "fillmode": "overlay",
              "size": 10,
              "solidity": 0.2
             }
            },
            "type": "histogram"
           }
          ],
          "histogram2d": [
           {
            "colorbar": {
             "outlinewidth": 0,
             "ticks": ""
            },
            "colorscale": [
             [
              0,
              "#0d0887"
             ],
             [
              0.1111111111111111,
              "#46039f"
             ],
             [
              0.2222222222222222,
              "#7201a8"
             ],
             [
              0.3333333333333333,
              "#9c179e"
             ],
             [
              0.4444444444444444,
              "#bd3786"
             ],
             [
              0.5555555555555556,
              "#d8576b"
             ],
             [
              0.6666666666666666,
              "#ed7953"
             ],
             [
              0.7777777777777778,
              "#fb9f3a"
             ],
             [
              0.8888888888888888,
              "#fdca26"
             ],
             [
              1,
              "#f0f921"
             ]
            ],
            "type": "histogram2d"
           }
          ],
          "histogram2dcontour": [
           {
            "colorbar": {
             "outlinewidth": 0,
             "ticks": ""
            },
            "colorscale": [
             [
              0,
              "#0d0887"
             ],
             [
              0.1111111111111111,
              "#46039f"
             ],
             [
              0.2222222222222222,
              "#7201a8"
             ],
             [
              0.3333333333333333,
              "#9c179e"
             ],
             [
              0.4444444444444444,
              "#bd3786"
             ],
             [
              0.5555555555555556,
              "#d8576b"
             ],
             [
              0.6666666666666666,
              "#ed7953"
             ],
             [
              0.7777777777777778,
              "#fb9f3a"
             ],
             [
              0.8888888888888888,
              "#fdca26"
             ],
             [
              1,
              "#f0f921"
             ]
            ],
            "type": "histogram2dcontour"
           }
          ],
          "mesh3d": [
           {
            "colorbar": {
             "outlinewidth": 0,
             "ticks": ""
            },
            "type": "mesh3d"
           }
          ],
          "parcoords": [
           {
            "line": {
             "colorbar": {
              "outlinewidth": 0,
              "ticks": ""
             }
            },
            "type": "parcoords"
           }
          ],
          "pie": [
           {
            "automargin": true,
            "type": "pie"
           }
          ],
          "scatter": [
           {
            "fillpattern": {
             "fillmode": "overlay",
             "size": 10,
             "solidity": 0.2
            },
            "type": "scatter"
           }
          ],
          "scatter3d": [
           {
            "line": {
             "colorbar": {
              "outlinewidth": 0,
              "ticks": ""
             }
            },
            "marker": {
             "colorbar": {
              "outlinewidth": 0,
              "ticks": ""
             }
            },
            "type": "scatter3d"
           }
          ],
          "scattercarpet": [
           {
            "marker": {
             "colorbar": {
              "outlinewidth": 0,
              "ticks": ""
             }
            },
            "type": "scattercarpet"
           }
          ],
          "scattergeo": [
           {
            "marker": {
             "colorbar": {
              "outlinewidth": 0,
              "ticks": ""
             }
            },
            "type": "scattergeo"
           }
          ],
          "scattergl": [
           {
            "marker": {
             "colorbar": {
              "outlinewidth": 0,
              "ticks": ""
             }
            },
            "type": "scattergl"
           }
          ],
          "scattermapbox": [
           {
            "marker": {
             "colorbar": {
              "outlinewidth": 0,
              "ticks": ""
             }
            },
            "type": "scattermapbox"
           }
          ],
          "scatterpolar": [
           {
            "marker": {
             "colorbar": {
              "outlinewidth": 0,
              "ticks": ""
             }
            },
            "type": "scatterpolar"
           }
          ],
          "scatterpolargl": [
           {
            "marker": {
             "colorbar": {
              "outlinewidth": 0,
              "ticks": ""
             }
            },
            "type": "scatterpolargl"
           }
          ],
          "scatterternary": [
           {
            "marker": {
             "colorbar": {
              "outlinewidth": 0,
              "ticks": ""
             }
            },
            "type": "scatterternary"
           }
          ],
          "surface": [
           {
            "colorbar": {
             "outlinewidth": 0,
             "ticks": ""
            },
            "colorscale": [
             [
              0,
              "#0d0887"
             ],
             [
              0.1111111111111111,
              "#46039f"
             ],
             [
              0.2222222222222222,
              "#7201a8"
             ],
             [
              0.3333333333333333,
              "#9c179e"
             ],
             [
              0.4444444444444444,
              "#bd3786"
             ],
             [
              0.5555555555555556,
              "#d8576b"
             ],
             [
              0.6666666666666666,
              "#ed7953"
             ],
             [
              0.7777777777777778,
              "#fb9f3a"
             ],
             [
              0.8888888888888888,
              "#fdca26"
             ],
             [
              1,
              "#f0f921"
             ]
            ],
            "type": "surface"
           }
          ],
          "table": [
           {
            "cells": {
             "fill": {
              "color": "#EBF0F8"
             },
             "line": {
              "color": "white"
             }
            },
            "header": {
             "fill": {
              "color": "#C8D4E3"
             },
             "line": {
              "color": "white"
             }
            },
            "type": "table"
           }
          ]
         },
         "layout": {
          "annotationdefaults": {
           "arrowcolor": "#2a3f5f",
           "arrowhead": 0,
           "arrowwidth": 1
          },
          "autotypenumbers": "strict",
          "coloraxis": {
           "colorbar": {
            "outlinewidth": 0,
            "ticks": ""
           }
          },
          "colorscale": {
           "diverging": [
            [
             0,
             "#8e0152"
            ],
            [
             0.1,
             "#c51b7d"
            ],
            [
             0.2,
             "#de77ae"
            ],
            [
             0.3,
             "#f1b6da"
            ],
            [
             0.4,
             "#fde0ef"
            ],
            [
             0.5,
             "#f7f7f7"
            ],
            [
             0.6,
             "#e6f5d0"
            ],
            [
             0.7,
             "#b8e186"
            ],
            [
             0.8,
             "#7fbc41"
            ],
            [
             0.9,
             "#4d9221"
            ],
            [
             1,
             "#276419"
            ]
           ],
           "sequential": [
            [
             0,
             "#0d0887"
            ],
            [
             0.1111111111111111,
             "#46039f"
            ],
            [
             0.2222222222222222,
             "#7201a8"
            ],
            [
             0.3333333333333333,
             "#9c179e"
            ],
            [
             0.4444444444444444,
             "#bd3786"
            ],
            [
             0.5555555555555556,
             "#d8576b"
            ],
            [
             0.6666666666666666,
             "#ed7953"
            ],
            [
             0.7777777777777778,
             "#fb9f3a"
            ],
            [
             0.8888888888888888,
             "#fdca26"
            ],
            [
             1,
             "#f0f921"
            ]
           ],
           "sequentialminus": [
            [
             0,
             "#0d0887"
            ],
            [
             0.1111111111111111,
             "#46039f"
            ],
            [
             0.2222222222222222,
             "#7201a8"
            ],
            [
             0.3333333333333333,
             "#9c179e"
            ],
            [
             0.4444444444444444,
             "#bd3786"
            ],
            [
             0.5555555555555556,
             "#d8576b"
            ],
            [
             0.6666666666666666,
             "#ed7953"
            ],
            [
             0.7777777777777778,
             "#fb9f3a"
            ],
            [
             0.8888888888888888,
             "#fdca26"
            ],
            [
             1,
             "#f0f921"
            ]
           ]
          },
          "colorway": [
           "#636efa",
           "#EF553B",
           "#00cc96",
           "#ab63fa",
           "#FFA15A",
           "#19d3f3",
           "#FF6692",
           "#B6E880",
           "#FF97FF",
           "#FECB52"
          ],
          "font": {
           "color": "#2a3f5f"
          },
          "geo": {
           "bgcolor": "white",
           "lakecolor": "white",
           "landcolor": "#E5ECF6",
           "showlakes": true,
           "showland": true,
           "subunitcolor": "white"
          },
          "hoverlabel": {
           "align": "left"
          },
          "hovermode": "closest",
          "mapbox": {
           "style": "light"
          },
          "paper_bgcolor": "white",
          "plot_bgcolor": "#E5ECF6",
          "polar": {
           "angularaxis": {
            "gridcolor": "white",
            "linecolor": "white",
            "ticks": ""
           },
           "bgcolor": "#E5ECF6",
           "radialaxis": {
            "gridcolor": "white",
            "linecolor": "white",
            "ticks": ""
           }
          },
          "scene": {
           "xaxis": {
            "backgroundcolor": "#E5ECF6",
            "gridcolor": "white",
            "gridwidth": 2,
            "linecolor": "white",
            "showbackground": true,
            "ticks": "",
            "zerolinecolor": "white"
           },
           "yaxis": {
            "backgroundcolor": "#E5ECF6",
            "gridcolor": "white",
            "gridwidth": 2,
            "linecolor": "white",
            "showbackground": true,
            "ticks": "",
            "zerolinecolor": "white"
           },
           "zaxis": {
            "backgroundcolor": "#E5ECF6",
            "gridcolor": "white",
            "gridwidth": 2,
            "linecolor": "white",
            "showbackground": true,
            "ticks": "",
            "zerolinecolor": "white"
           }
          },
          "shapedefaults": {
           "line": {
            "color": "#2a3f5f"
           }
          },
          "ternary": {
           "aaxis": {
            "gridcolor": "white",
            "linecolor": "white",
            "ticks": ""
           },
           "baxis": {
            "gridcolor": "white",
            "linecolor": "white",
            "ticks": ""
           },
           "bgcolor": "#E5ECF6",
           "caxis": {
            "gridcolor": "white",
            "linecolor": "white",
            "ticks": ""
           }
          },
          "title": {
           "x": 0.05
          },
          "xaxis": {
           "automargin": true,
           "gridcolor": "white",
           "linecolor": "white",
           "ticks": "",
           "title": {
            "standoff": 15
           },
           "zerolinecolor": "white",
           "zerolinewidth": 2
          },
          "yaxis": {
           "automargin": true,
           "gridcolor": "white",
           "linecolor": "white",
           "ticks": "",
           "title": {
            "standoff": 15
           },
           "zerolinecolor": "white",
           "zerolinewidth": 2
          }
         }
        },
        "title": {
         "text": "Distribución de Accesos por Tecnología (2024 - Trimestre 2)"
        },
        "xaxis": {
         "anchor": "y",
         "domain": [
          0,
          1
         ],
         "title": {
          "text": "Cantidad de Accesos"
         }
        },
        "yaxis": {
         "anchor": "x",
         "domain": [
          0,
          1
         ],
         "title": {
          "text": "Tecnología"
         }
        }
       }
      }
     },
     "metadata": {},
     "output_type": "display_data"
    },
    {
     "data": {
      "application/vnd.jupyter.widget-view+json": {
       "model_id": "dc84b1cbb43b44bba476617269fba605",
       "version_major": 2,
       "version_minor": 0
      },
      "text/plain": [
       "VBox(children=(HBox(children=(Dropdown(description='Año:', options=(np.int64(2024), np.int64(2023), np.int64(2…"
      ]
     },
     "metadata": {},
     "output_type": "display_data"
    }
   ],
   "source": [
    "from graficos import GraficoAccesosPorTecnologia\n",
    "\n",
    "grafico_tecnologia = GraficoAccesosPorTecnologia(dataframes[\"Totales Accesos Por Tecnología\"])\n",
    "grafico_tecnologia.display()"
   ]
  },
  {
   "cell_type": "markdown",
   "id": "ca97aebb",
   "metadata": {},
   "source": [
    "![imagen](src/dist_acc_tecn_2024.png)"
   ]
  },
  {
   "cell_type": "markdown",
   "id": "c6f04b4b",
   "metadata": {},
   "source": [
    "## Penetración de Accesos por cada 100 hogares\n",
    "\n",
    "La penetración de accesos por cada 100 hogares muestra una tendencia creciente y sostenida durante todos los trimestres del año.\n",
    "\n",
    "* Trimestre 1: ~86 accesos por cada 100 hogares.\n",
    "\n",
    "* Trimestre 4: ~89 accesos por cada 100 hogares.\n",
    "\n",
    "Este crecimiento refleja un incremento continuo en la adopción de servicios de internet en la región. Sin embargo, aunque el crecimiento es constante, los incrementos son relativamente pequeños entre trimestres, lo que indica:\n",
    "\n",
    "* Una maduración del mercado donde la mayoría de los hogares ya tiene acceso.\n",
    "\n",
    "* Incrementos principalmente debido a:\n",
    "\n",
    "    * Nuevos hogares que contratan servicios.\n",
    "\n",
    "    * Actualizaciones tecnológicas o mejoras en el servicio.\n",
    "\n",
    "* La penetración, que está por encima del 85% en todos los trimestres, sugiere que la mayoría de los hogares en Córdoba tienen acceso a servicios de internet. Esto posiciona a la provincia en un nivel de alta conectividad residencial, lo que es un indicador positivo para el desarrollo tecnológico y digital de la región."
   ]
  },
  {
   "cell_type": "code",
   "execution_count": 32,
   "id": "a5a597c2",
   "metadata": {},
   "outputs": [
    {
     "data": {
      "application/vnd.plotly.v1+json": {
       "config": {
        "plotlyServerURL": "https://plot.ly"
       },
       "data": [
        {
         "hovertemplate": "Trimestre=%{x}<br>Accesos por cada 100 Hogares=%{y}<extra></extra>",
         "legendgroup": "",
         "line": {
          "color": "#636efa",
          "dash": "solid",
          "width": 2
         },
         "marker": {
          "symbol": "circle"
         },
         "mode": "lines+markers",
         "name": "",
         "orientation": "v",
         "showlegend": false,
         "type": "scatter",
         "x": [
          1,
          2,
          3,
          4
         ],
         "xaxis": "x",
         "y": [
          85.7574535631355,
          87.48,
          88.31,
          89.03
         ],
         "yaxis": "y"
        }
       ],
       "layout": {
        "legend": {
         "tracegroupgap": 0
        },
        "template": {
         "data": {
          "bar": [
           {
            "error_x": {
             "color": "#2a3f5f"
            },
            "error_y": {
             "color": "#2a3f5f"
            },
            "marker": {
             "line": {
              "color": "#E5ECF6",
              "width": 0.5
             },
             "pattern": {
              "fillmode": "overlay",
              "size": 10,
              "solidity": 0.2
             }
            },
            "type": "bar"
           }
          ],
          "barpolar": [
           {
            "marker": {
             "line": {
              "color": "#E5ECF6",
              "width": 0.5
             },
             "pattern": {
              "fillmode": "overlay",
              "size": 10,
              "solidity": 0.2
             }
            },
            "type": "barpolar"
           }
          ],
          "carpet": [
           {
            "aaxis": {
             "endlinecolor": "#2a3f5f",
             "gridcolor": "white",
             "linecolor": "white",
             "minorgridcolor": "white",
             "startlinecolor": "#2a3f5f"
            },
            "baxis": {
             "endlinecolor": "#2a3f5f",
             "gridcolor": "white",
             "linecolor": "white",
             "minorgridcolor": "white",
             "startlinecolor": "#2a3f5f"
            },
            "type": "carpet"
           }
          ],
          "choropleth": [
           {
            "colorbar": {
             "outlinewidth": 0,
             "ticks": ""
            },
            "type": "choropleth"
           }
          ],
          "contour": [
           {
            "colorbar": {
             "outlinewidth": 0,
             "ticks": ""
            },
            "colorscale": [
             [
              0,
              "#0d0887"
             ],
             [
              0.1111111111111111,
              "#46039f"
             ],
             [
              0.2222222222222222,
              "#7201a8"
             ],
             [
              0.3333333333333333,
              "#9c179e"
             ],
             [
              0.4444444444444444,
              "#bd3786"
             ],
             [
              0.5555555555555556,
              "#d8576b"
             ],
             [
              0.6666666666666666,
              "#ed7953"
             ],
             [
              0.7777777777777778,
              "#fb9f3a"
             ],
             [
              0.8888888888888888,
              "#fdca26"
             ],
             [
              1,
              "#f0f921"
             ]
            ],
            "type": "contour"
           }
          ],
          "contourcarpet": [
           {
            "colorbar": {
             "outlinewidth": 0,
             "ticks": ""
            },
            "type": "contourcarpet"
           }
          ],
          "heatmap": [
           {
            "colorbar": {
             "outlinewidth": 0,
             "ticks": ""
            },
            "colorscale": [
             [
              0,
              "#0d0887"
             ],
             [
              0.1111111111111111,
              "#46039f"
             ],
             [
              0.2222222222222222,
              "#7201a8"
             ],
             [
              0.3333333333333333,
              "#9c179e"
             ],
             [
              0.4444444444444444,
              "#bd3786"
             ],
             [
              0.5555555555555556,
              "#d8576b"
             ],
             [
              0.6666666666666666,
              "#ed7953"
             ],
             [
              0.7777777777777778,
              "#fb9f3a"
             ],
             [
              0.8888888888888888,
              "#fdca26"
             ],
             [
              1,
              "#f0f921"
             ]
            ],
            "type": "heatmap"
           }
          ],
          "heatmapgl": [
           {
            "colorbar": {
             "outlinewidth": 0,
             "ticks": ""
            },
            "colorscale": [
             [
              0,
              "#0d0887"
             ],
             [
              0.1111111111111111,
              "#46039f"
             ],
             [
              0.2222222222222222,
              "#7201a8"
             ],
             [
              0.3333333333333333,
              "#9c179e"
             ],
             [
              0.4444444444444444,
              "#bd3786"
             ],
             [
              0.5555555555555556,
              "#d8576b"
             ],
             [
              0.6666666666666666,
              "#ed7953"
             ],
             [
              0.7777777777777778,
              "#fb9f3a"
             ],
             [
              0.8888888888888888,
              "#fdca26"
             ],
             [
              1,
              "#f0f921"
             ]
            ],
            "type": "heatmapgl"
           }
          ],
          "histogram": [
           {
            "marker": {
             "pattern": {
              "fillmode": "overlay",
              "size": 10,
              "solidity": 0.2
             }
            },
            "type": "histogram"
           }
          ],
          "histogram2d": [
           {
            "colorbar": {
             "outlinewidth": 0,
             "ticks": ""
            },
            "colorscale": [
             [
              0,
              "#0d0887"
             ],
             [
              0.1111111111111111,
              "#46039f"
             ],
             [
              0.2222222222222222,
              "#7201a8"
             ],
             [
              0.3333333333333333,
              "#9c179e"
             ],
             [
              0.4444444444444444,
              "#bd3786"
             ],
             [
              0.5555555555555556,
              "#d8576b"
             ],
             [
              0.6666666666666666,
              "#ed7953"
             ],
             [
              0.7777777777777778,
              "#fb9f3a"
             ],
             [
              0.8888888888888888,
              "#fdca26"
             ],
             [
              1,
              "#f0f921"
             ]
            ],
            "type": "histogram2d"
           }
          ],
          "histogram2dcontour": [
           {
            "colorbar": {
             "outlinewidth": 0,
             "ticks": ""
            },
            "colorscale": [
             [
              0,
              "#0d0887"
             ],
             [
              0.1111111111111111,
              "#46039f"
             ],
             [
              0.2222222222222222,
              "#7201a8"
             ],
             [
              0.3333333333333333,
              "#9c179e"
             ],
             [
              0.4444444444444444,
              "#bd3786"
             ],
             [
              0.5555555555555556,
              "#d8576b"
             ],
             [
              0.6666666666666666,
              "#ed7953"
             ],
             [
              0.7777777777777778,
              "#fb9f3a"
             ],
             [
              0.8888888888888888,
              "#fdca26"
             ],
             [
              1,
              "#f0f921"
             ]
            ],
            "type": "histogram2dcontour"
           }
          ],
          "mesh3d": [
           {
            "colorbar": {
             "outlinewidth": 0,
             "ticks": ""
            },
            "type": "mesh3d"
           }
          ],
          "parcoords": [
           {
            "line": {
             "colorbar": {
              "outlinewidth": 0,
              "ticks": ""
             }
            },
            "type": "parcoords"
           }
          ],
          "pie": [
           {
            "automargin": true,
            "type": "pie"
           }
          ],
          "scatter": [
           {
            "fillpattern": {
             "fillmode": "overlay",
             "size": 10,
             "solidity": 0.2
            },
            "type": "scatter"
           }
          ],
          "scatter3d": [
           {
            "line": {
             "colorbar": {
              "outlinewidth": 0,
              "ticks": ""
             }
            },
            "marker": {
             "colorbar": {
              "outlinewidth": 0,
              "ticks": ""
             }
            },
            "type": "scatter3d"
           }
          ],
          "scattercarpet": [
           {
            "marker": {
             "colorbar": {
              "outlinewidth": 0,
              "ticks": ""
             }
            },
            "type": "scattercarpet"
           }
          ],
          "scattergeo": [
           {
            "marker": {
             "colorbar": {
              "outlinewidth": 0,
              "ticks": ""
             }
            },
            "type": "scattergeo"
           }
          ],
          "scattergl": [
           {
            "marker": {
             "colorbar": {
              "outlinewidth": 0,
              "ticks": ""
             }
            },
            "type": "scattergl"
           }
          ],
          "scattermapbox": [
           {
            "marker": {
             "colorbar": {
              "outlinewidth": 0,
              "ticks": ""
             }
            },
            "type": "scattermapbox"
           }
          ],
          "scatterpolar": [
           {
            "marker": {
             "colorbar": {
              "outlinewidth": 0,
              "ticks": ""
             }
            },
            "type": "scatterpolar"
           }
          ],
          "scatterpolargl": [
           {
            "marker": {
             "colorbar": {
              "outlinewidth": 0,
              "ticks": ""
             }
            },
            "type": "scatterpolargl"
           }
          ],
          "scatterternary": [
           {
            "marker": {
             "colorbar": {
              "outlinewidth": 0,
              "ticks": ""
             }
            },
            "type": "scatterternary"
           }
          ],
          "surface": [
           {
            "colorbar": {
             "outlinewidth": 0,
             "ticks": ""
            },
            "colorscale": [
             [
              0,
              "#0d0887"
             ],
             [
              0.1111111111111111,
              "#46039f"
             ],
             [
              0.2222222222222222,
              "#7201a8"
             ],
             [
              0.3333333333333333,
              "#9c179e"
             ],
             [
              0.4444444444444444,
              "#bd3786"
             ],
             [
              0.5555555555555556,
              "#d8576b"
             ],
             [
              0.6666666666666666,
              "#ed7953"
             ],
             [
              0.7777777777777778,
              "#fb9f3a"
             ],
             [
              0.8888888888888888,
              "#fdca26"
             ],
             [
              1,
              "#f0f921"
             ]
            ],
            "type": "surface"
           }
          ],
          "table": [
           {
            "cells": {
             "fill": {
              "color": "#EBF0F8"
             },
             "line": {
              "color": "white"
             }
            },
            "header": {
             "fill": {
              "color": "#C8D4E3"
             },
             "line": {
              "color": "white"
             }
            },
            "type": "table"
           }
          ]
         },
         "layout": {
          "annotationdefaults": {
           "arrowcolor": "#2a3f5f",
           "arrowhead": 0,
           "arrowwidth": 1
          },
          "autotypenumbers": "strict",
          "coloraxis": {
           "colorbar": {
            "outlinewidth": 0,
            "ticks": ""
           }
          },
          "colorscale": {
           "diverging": [
            [
             0,
             "#8e0152"
            ],
            [
             0.1,
             "#c51b7d"
            ],
            [
             0.2,
             "#de77ae"
            ],
            [
             0.3,
             "#f1b6da"
            ],
            [
             0.4,
             "#fde0ef"
            ],
            [
             0.5,
             "#f7f7f7"
            ],
            [
             0.6,
             "#e6f5d0"
            ],
            [
             0.7,
             "#b8e186"
            ],
            [
             0.8,
             "#7fbc41"
            ],
            [
             0.9,
             "#4d9221"
            ],
            [
             1,
             "#276419"
            ]
           ],
           "sequential": [
            [
             0,
             "#0d0887"
            ],
            [
             0.1111111111111111,
             "#46039f"
            ],
            [
             0.2222222222222222,
             "#7201a8"
            ],
            [
             0.3333333333333333,
             "#9c179e"
            ],
            [
             0.4444444444444444,
             "#bd3786"
            ],
            [
             0.5555555555555556,
             "#d8576b"
            ],
            [
             0.6666666666666666,
             "#ed7953"
            ],
            [
             0.7777777777777778,
             "#fb9f3a"
            ],
            [
             0.8888888888888888,
             "#fdca26"
            ],
            [
             1,
             "#f0f921"
            ]
           ],
           "sequentialminus": [
            [
             0,
             "#0d0887"
            ],
            [
             0.1111111111111111,
             "#46039f"
            ],
            [
             0.2222222222222222,
             "#7201a8"
            ],
            [
             0.3333333333333333,
             "#9c179e"
            ],
            [
             0.4444444444444444,
             "#bd3786"
            ],
            [
             0.5555555555555556,
             "#d8576b"
            ],
            [
             0.6666666666666666,
             "#ed7953"
            ],
            [
             0.7777777777777778,
             "#fb9f3a"
            ],
            [
             0.8888888888888888,
             "#fdca26"
            ],
            [
             1,
             "#f0f921"
            ]
           ]
          },
          "colorway": [
           "#636efa",
           "#EF553B",
           "#00cc96",
           "#ab63fa",
           "#FFA15A",
           "#19d3f3",
           "#FF6692",
           "#B6E880",
           "#FF97FF",
           "#FECB52"
          ],
          "font": {
           "color": "#2a3f5f"
          },
          "geo": {
           "bgcolor": "white",
           "lakecolor": "white",
           "landcolor": "#E5ECF6",
           "showlakes": true,
           "showland": true,
           "subunitcolor": "white"
          },
          "hoverlabel": {
           "align": "left"
          },
          "hovermode": "closest",
          "mapbox": {
           "style": "light"
          },
          "paper_bgcolor": "white",
          "plot_bgcolor": "#E5ECF6",
          "polar": {
           "angularaxis": {
            "gridcolor": "white",
            "linecolor": "white",
            "ticks": ""
           },
           "bgcolor": "#E5ECF6",
           "radialaxis": {
            "gridcolor": "white",
            "linecolor": "white",
            "ticks": ""
           }
          },
          "scene": {
           "xaxis": {
            "backgroundcolor": "#E5ECF6",
            "gridcolor": "white",
            "gridwidth": 2,
            "linecolor": "white",
            "showbackground": true,
            "ticks": "",
            "zerolinecolor": "white"
           },
           "yaxis": {
            "backgroundcolor": "#E5ECF6",
            "gridcolor": "white",
            "gridwidth": 2,
            "linecolor": "white",
            "showbackground": true,
            "ticks": "",
            "zerolinecolor": "white"
           },
           "zaxis": {
            "backgroundcolor": "#E5ECF6",
            "gridcolor": "white",
            "gridwidth": 2,
            "linecolor": "white",
            "showbackground": true,
            "ticks": "",
            "zerolinecolor": "white"
           }
          },
          "shapedefaults": {
           "line": {
            "color": "#2a3f5f"
           }
          },
          "ternary": {
           "aaxis": {
            "gridcolor": "white",
            "linecolor": "white",
            "ticks": ""
           },
           "baxis": {
            "gridcolor": "white",
            "linecolor": "white",
            "ticks": ""
           },
           "bgcolor": "#E5ECF6",
           "caxis": {
            "gridcolor": "white",
            "linecolor": "white",
            "ticks": ""
           }
          },
          "title": {
           "x": 0.05
          },
          "xaxis": {
           "automargin": true,
           "gridcolor": "white",
           "linecolor": "white",
           "ticks": "",
           "title": {
            "standoff": 15
           },
           "zerolinecolor": "white",
           "zerolinewidth": 2
          },
          "yaxis": {
           "automargin": true,
           "gridcolor": "white",
           "linecolor": "white",
           "ticks": "",
           "title": {
            "standoff": 15
           },
           "zerolinecolor": "white",
           "zerolinewidth": 2
          }
         }
        },
        "title": {
         "text": "Penetración de Accesos por Hogares en Córdoba (2022)"
        },
        "xaxis": {
         "anchor": "y",
         "domain": [
          0,
          1
         ],
         "title": {
          "text": "Trimestre"
         },
         "type": "category"
        },
        "yaxis": {
         "anchor": "x",
         "domain": [
          0,
          1
         ],
         "title": {
          "text": "Accesos por cada 100 Hogares"
         }
        }
       }
      }
     },
     "metadata": {},
     "output_type": "display_data"
    },
    {
     "data": {
      "application/vnd.jupyter.widget-view+json": {
       "model_id": "88cb3c4d43ef4708924d48fde2a4abed",
       "version_major": 2,
       "version_minor": 0
      },
      "text/plain": [
       "VBox(children=(HBox(children=(Dropdown(description='Año:', index=2, options=(np.int64(2024), np.int64(2023), n…"
      ]
     },
     "metadata": {},
     "output_type": "display_data"
    }
   ],
   "source": [
    "from graficos import GraficoPenetracionHogares\n",
    "\n",
    "grafico_penetracion = GraficoPenetracionHogares(dataframes[\"Penetracion-hogares\"])\n",
    "grafico_penetracion.display()"
   ]
  },
  {
   "cell_type": "markdown",
   "id": "68c36240",
   "metadata": {},
   "source": [
    "![imagen](src/pen_hog_cord_2022.png)"
   ]
  },
  {
   "cell_type": "markdown",
   "id": "f81072c2",
   "metadata": {},
   "source": [
    "## Velocidad Promedio por Provincia\n",
    "\n",
    "Capital Federal experimentó un incremento importante en la velocidad promedio durante 2022, alcanzando niveles muy altos al cierre del año (~180 Mbps).\n",
    "Este comportamiento sugiere que la región está bien posicionada en términos de conectividad, con un mercado competitivo que impulsa mejoras continuas en la infraestructura."
   ]
  },
  {
   "cell_type": "code",
   "execution_count": 33,
   "id": "cd3545fd",
   "metadata": {},
   "outputs": [
    {
     "data": {
      "application/vnd.plotly.v1+json": {
       "config": {
        "plotlyServerURL": "https://plot.ly"
       },
       "data": [
        {
         "hovertemplate": "Trimestre=%{x}<br>Velocidad Promedio (Mbps)=%{y}<extra></extra>",
         "legendgroup": "",
         "line": {
          "color": "#636efa",
          "dash": "solid",
          "width": 2
         },
         "marker": {
          "symbol": "circle"
         },
         "mode": "lines+markers",
         "name": "",
         "orientation": "v",
         "showlegend": false,
         "type": "scatter",
         "x": [
          1,
          2,
          3,
          4
         ],
         "xaxis": "x",
         "y": [
          88.22,
          93.97,
          101.05,
          182.86
         ],
         "yaxis": "y"
        }
       ],
       "layout": {
        "legend": {
         "tracegroupgap": 0
        },
        "template": {
         "data": {
          "bar": [
           {
            "error_x": {
             "color": "#2a3f5f"
            },
            "error_y": {
             "color": "#2a3f5f"
            },
            "marker": {
             "line": {
              "color": "#E5ECF6",
              "width": 0.5
             },
             "pattern": {
              "fillmode": "overlay",
              "size": 10,
              "solidity": 0.2
             }
            },
            "type": "bar"
           }
          ],
          "barpolar": [
           {
            "marker": {
             "line": {
              "color": "#E5ECF6",
              "width": 0.5
             },
             "pattern": {
              "fillmode": "overlay",
              "size": 10,
              "solidity": 0.2
             }
            },
            "type": "barpolar"
           }
          ],
          "carpet": [
           {
            "aaxis": {
             "endlinecolor": "#2a3f5f",
             "gridcolor": "white",
             "linecolor": "white",
             "minorgridcolor": "white",
             "startlinecolor": "#2a3f5f"
            },
            "baxis": {
             "endlinecolor": "#2a3f5f",
             "gridcolor": "white",
             "linecolor": "white",
             "minorgridcolor": "white",
             "startlinecolor": "#2a3f5f"
            },
            "type": "carpet"
           }
          ],
          "choropleth": [
           {
            "colorbar": {
             "outlinewidth": 0,
             "ticks": ""
            },
            "type": "choropleth"
           }
          ],
          "contour": [
           {
            "colorbar": {
             "outlinewidth": 0,
             "ticks": ""
            },
            "colorscale": [
             [
              0,
              "#0d0887"
             ],
             [
              0.1111111111111111,
              "#46039f"
             ],
             [
              0.2222222222222222,
              "#7201a8"
             ],
             [
              0.3333333333333333,
              "#9c179e"
             ],
             [
              0.4444444444444444,
              "#bd3786"
             ],
             [
              0.5555555555555556,
              "#d8576b"
             ],
             [
              0.6666666666666666,
              "#ed7953"
             ],
             [
              0.7777777777777778,
              "#fb9f3a"
             ],
             [
              0.8888888888888888,
              "#fdca26"
             ],
             [
              1,
              "#f0f921"
             ]
            ],
            "type": "contour"
           }
          ],
          "contourcarpet": [
           {
            "colorbar": {
             "outlinewidth": 0,
             "ticks": ""
            },
            "type": "contourcarpet"
           }
          ],
          "heatmap": [
           {
            "colorbar": {
             "outlinewidth": 0,
             "ticks": ""
            },
            "colorscale": [
             [
              0,
              "#0d0887"
             ],
             [
              0.1111111111111111,
              "#46039f"
             ],
             [
              0.2222222222222222,
              "#7201a8"
             ],
             [
              0.3333333333333333,
              "#9c179e"
             ],
             [
              0.4444444444444444,
              "#bd3786"
             ],
             [
              0.5555555555555556,
              "#d8576b"
             ],
             [
              0.6666666666666666,
              "#ed7953"
             ],
             [
              0.7777777777777778,
              "#fb9f3a"
             ],
             [
              0.8888888888888888,
              "#fdca26"
             ],
             [
              1,
              "#f0f921"
             ]
            ],
            "type": "heatmap"
           }
          ],
          "heatmapgl": [
           {
            "colorbar": {
             "outlinewidth": 0,
             "ticks": ""
            },
            "colorscale": [
             [
              0,
              "#0d0887"
             ],
             [
              0.1111111111111111,
              "#46039f"
             ],
             [
              0.2222222222222222,
              "#7201a8"
             ],
             [
              0.3333333333333333,
              "#9c179e"
             ],
             [
              0.4444444444444444,
              "#bd3786"
             ],
             [
              0.5555555555555556,
              "#d8576b"
             ],
             [
              0.6666666666666666,
              "#ed7953"
             ],
             [
              0.7777777777777778,
              "#fb9f3a"
             ],
             [
              0.8888888888888888,
              "#fdca26"
             ],
             [
              1,
              "#f0f921"
             ]
            ],
            "type": "heatmapgl"
           }
          ],
          "histogram": [
           {
            "marker": {
             "pattern": {
              "fillmode": "overlay",
              "size": 10,
              "solidity": 0.2
             }
            },
            "type": "histogram"
           }
          ],
          "histogram2d": [
           {
            "colorbar": {
             "outlinewidth": 0,
             "ticks": ""
            },
            "colorscale": [
             [
              0,
              "#0d0887"
             ],
             [
              0.1111111111111111,
              "#46039f"
             ],
             [
              0.2222222222222222,
              "#7201a8"
             ],
             [
              0.3333333333333333,
              "#9c179e"
             ],
             [
              0.4444444444444444,
              "#bd3786"
             ],
             [
              0.5555555555555556,
              "#d8576b"
             ],
             [
              0.6666666666666666,
              "#ed7953"
             ],
             [
              0.7777777777777778,
              "#fb9f3a"
             ],
             [
              0.8888888888888888,
              "#fdca26"
             ],
             [
              1,
              "#f0f921"
             ]
            ],
            "type": "histogram2d"
           }
          ],
          "histogram2dcontour": [
           {
            "colorbar": {
             "outlinewidth": 0,
             "ticks": ""
            },
            "colorscale": [
             [
              0,
              "#0d0887"
             ],
             [
              0.1111111111111111,
              "#46039f"
             ],
             [
              0.2222222222222222,
              "#7201a8"
             ],
             [
              0.3333333333333333,
              "#9c179e"
             ],
             [
              0.4444444444444444,
              "#bd3786"
             ],
             [
              0.5555555555555556,
              "#d8576b"
             ],
             [
              0.6666666666666666,
              "#ed7953"
             ],
             [
              0.7777777777777778,
              "#fb9f3a"
             ],
             [
              0.8888888888888888,
              "#fdca26"
             ],
             [
              1,
              "#f0f921"
             ]
            ],
            "type": "histogram2dcontour"
           }
          ],
          "mesh3d": [
           {
            "colorbar": {
             "outlinewidth": 0,
             "ticks": ""
            },
            "type": "mesh3d"
           }
          ],
          "parcoords": [
           {
            "line": {
             "colorbar": {
              "outlinewidth": 0,
              "ticks": ""
             }
            },
            "type": "parcoords"
           }
          ],
          "pie": [
           {
            "automargin": true,
            "type": "pie"
           }
          ],
          "scatter": [
           {
            "fillpattern": {
             "fillmode": "overlay",
             "size": 10,
             "solidity": 0.2
            },
            "type": "scatter"
           }
          ],
          "scatter3d": [
           {
            "line": {
             "colorbar": {
              "outlinewidth": 0,
              "ticks": ""
             }
            },
            "marker": {
             "colorbar": {
              "outlinewidth": 0,
              "ticks": ""
             }
            },
            "type": "scatter3d"
           }
          ],
          "scattercarpet": [
           {
            "marker": {
             "colorbar": {
              "outlinewidth": 0,
              "ticks": ""
             }
            },
            "type": "scattercarpet"
           }
          ],
          "scattergeo": [
           {
            "marker": {
             "colorbar": {
              "outlinewidth": 0,
              "ticks": ""
             }
            },
            "type": "scattergeo"
           }
          ],
          "scattergl": [
           {
            "marker": {
             "colorbar": {
              "outlinewidth": 0,
              "ticks": ""
             }
            },
            "type": "scattergl"
           }
          ],
          "scattermapbox": [
           {
            "marker": {
             "colorbar": {
              "outlinewidth": 0,
              "ticks": ""
             }
            },
            "type": "scattermapbox"
           }
          ],
          "scatterpolar": [
           {
            "marker": {
             "colorbar": {
              "outlinewidth": 0,
              "ticks": ""
             }
            },
            "type": "scatterpolar"
           }
          ],
          "scatterpolargl": [
           {
            "marker": {
             "colorbar": {
              "outlinewidth": 0,
              "ticks": ""
             }
            },
            "type": "scatterpolargl"
           }
          ],
          "scatterternary": [
           {
            "marker": {
             "colorbar": {
              "outlinewidth": 0,
              "ticks": ""
             }
            },
            "type": "scatterternary"
           }
          ],
          "surface": [
           {
            "colorbar": {
             "outlinewidth": 0,
             "ticks": ""
            },
            "colorscale": [
             [
              0,
              "#0d0887"
             ],
             [
              0.1111111111111111,
              "#46039f"
             ],
             [
              0.2222222222222222,
              "#7201a8"
             ],
             [
              0.3333333333333333,
              "#9c179e"
             ],
             [
              0.4444444444444444,
              "#bd3786"
             ],
             [
              0.5555555555555556,
              "#d8576b"
             ],
             [
              0.6666666666666666,
              "#ed7953"
             ],
             [
              0.7777777777777778,
              "#fb9f3a"
             ],
             [
              0.8888888888888888,
              "#fdca26"
             ],
             [
              1,
              "#f0f921"
             ]
            ],
            "type": "surface"
           }
          ],
          "table": [
           {
            "cells": {
             "fill": {
              "color": "#EBF0F8"
             },
             "line": {
              "color": "white"
             }
            },
            "header": {
             "fill": {
              "color": "#C8D4E3"
             },
             "line": {
              "color": "white"
             }
            },
            "type": "table"
           }
          ]
         },
         "layout": {
          "annotationdefaults": {
           "arrowcolor": "#2a3f5f",
           "arrowhead": 0,
           "arrowwidth": 1
          },
          "autotypenumbers": "strict",
          "coloraxis": {
           "colorbar": {
            "outlinewidth": 0,
            "ticks": ""
           }
          },
          "colorscale": {
           "diverging": [
            [
             0,
             "#8e0152"
            ],
            [
             0.1,
             "#c51b7d"
            ],
            [
             0.2,
             "#de77ae"
            ],
            [
             0.3,
             "#f1b6da"
            ],
            [
             0.4,
             "#fde0ef"
            ],
            [
             0.5,
             "#f7f7f7"
            ],
            [
             0.6,
             "#e6f5d0"
            ],
            [
             0.7,
             "#b8e186"
            ],
            [
             0.8,
             "#7fbc41"
            ],
            [
             0.9,
             "#4d9221"
            ],
            [
             1,
             "#276419"
            ]
           ],
           "sequential": [
            [
             0,
             "#0d0887"
            ],
            [
             0.1111111111111111,
             "#46039f"
            ],
            [
             0.2222222222222222,
             "#7201a8"
            ],
            [
             0.3333333333333333,
             "#9c179e"
            ],
            [
             0.4444444444444444,
             "#bd3786"
            ],
            [
             0.5555555555555556,
             "#d8576b"
            ],
            [
             0.6666666666666666,
             "#ed7953"
            ],
            [
             0.7777777777777778,
             "#fb9f3a"
            ],
            [
             0.8888888888888888,
             "#fdca26"
            ],
            [
             1,
             "#f0f921"
            ]
           ],
           "sequentialminus": [
            [
             0,
             "#0d0887"
            ],
            [
             0.1111111111111111,
             "#46039f"
            ],
            [
             0.2222222222222222,
             "#7201a8"
            ],
            [
             0.3333333333333333,
             "#9c179e"
            ],
            [
             0.4444444444444444,
             "#bd3786"
            ],
            [
             0.5555555555555556,
             "#d8576b"
            ],
            [
             0.6666666666666666,
             "#ed7953"
            ],
            [
             0.7777777777777778,
             "#fb9f3a"
            ],
            [
             0.8888888888888888,
             "#fdca26"
            ],
            [
             1,
             "#f0f921"
            ]
           ]
          },
          "colorway": [
           "#636efa",
           "#EF553B",
           "#00cc96",
           "#ab63fa",
           "#FFA15A",
           "#19d3f3",
           "#FF6692",
           "#B6E880",
           "#FF97FF",
           "#FECB52"
          ],
          "font": {
           "color": "#2a3f5f"
          },
          "geo": {
           "bgcolor": "white",
           "lakecolor": "white",
           "landcolor": "#E5ECF6",
           "showlakes": true,
           "showland": true,
           "subunitcolor": "white"
          },
          "hoverlabel": {
           "align": "left"
          },
          "hovermode": "closest",
          "mapbox": {
           "style": "light"
          },
          "paper_bgcolor": "white",
          "plot_bgcolor": "#E5ECF6",
          "polar": {
           "angularaxis": {
            "gridcolor": "white",
            "linecolor": "white",
            "ticks": ""
           },
           "bgcolor": "#E5ECF6",
           "radialaxis": {
            "gridcolor": "white",
            "linecolor": "white",
            "ticks": ""
           }
          },
          "scene": {
           "xaxis": {
            "backgroundcolor": "#E5ECF6",
            "gridcolor": "white",
            "gridwidth": 2,
            "linecolor": "white",
            "showbackground": true,
            "ticks": "",
            "zerolinecolor": "white"
           },
           "yaxis": {
            "backgroundcolor": "#E5ECF6",
            "gridcolor": "white",
            "gridwidth": 2,
            "linecolor": "white",
            "showbackground": true,
            "ticks": "",
            "zerolinecolor": "white"
           },
           "zaxis": {
            "backgroundcolor": "#E5ECF6",
            "gridcolor": "white",
            "gridwidth": 2,
            "linecolor": "white",
            "showbackground": true,
            "ticks": "",
            "zerolinecolor": "white"
           }
          },
          "shapedefaults": {
           "line": {
            "color": "#2a3f5f"
           }
          },
          "ternary": {
           "aaxis": {
            "gridcolor": "white",
            "linecolor": "white",
            "ticks": ""
           },
           "baxis": {
            "gridcolor": "white",
            "linecolor": "white",
            "ticks": ""
           },
           "bgcolor": "#E5ECF6",
           "caxis": {
            "gridcolor": "white",
            "linecolor": "white",
            "ticks": ""
           }
          },
          "title": {
           "x": 0.05
          },
          "xaxis": {
           "automargin": true,
           "gridcolor": "white",
           "linecolor": "white",
           "ticks": "",
           "title": {
            "standoff": 15
           },
           "zerolinecolor": "white",
           "zerolinewidth": 2
          },
          "yaxis": {
           "automargin": true,
           "gridcolor": "white",
           "linecolor": "white",
           "ticks": "",
           "title": {
            "standoff": 15
           },
           "zerolinecolor": "white",
           "zerolinewidth": 2
          }
         }
        },
        "title": {
         "text": "Velocidad Promedio (Mbps) en Capital Federal (2022)"
        },
        "xaxis": {
         "anchor": "y",
         "domain": [
          0,
          1
         ],
         "title": {
          "text": "Trimestre"
         },
         "type": "category"
        },
        "yaxis": {
         "anchor": "x",
         "domain": [
          0,
          1
         ],
         "title": {
          "text": "Velocidad Promedio (Mbps)"
         }
        }
       }
      }
     },
     "metadata": {},
     "output_type": "display_data"
    },
    {
     "data": {
      "application/vnd.jupyter.widget-view+json": {
       "model_id": "9687c4171259422e852d1fc5a6ba94f5",
       "version_major": 2,
       "version_minor": 0
      },
      "text/plain": [
       "VBox(children=(HBox(children=(Dropdown(description='Año:', index=2, options=(np.int64(2024), np.int64(2023), n…"
      ]
     },
     "metadata": {},
     "output_type": "display_data"
    }
   ],
   "source": [
    "from graficos import GraficoVelocidadPromedio\n",
    "\n",
    "grafico_velocidad = GraficoVelocidadPromedio(dataframes[\"Velocidad % por prov\"])\n",
    "grafico_velocidad.display()"
   ]
  },
  {
   "cell_type": "markdown",
   "id": "e58a92fb",
   "metadata": {},
   "source": [
    "![imagen](src/vel_prom_cap_fed_2022.png)"
   ]
  },
  {
   "cell_type": "markdown",
   "id": "1e1c969b",
   "metadata": {},
   "source": [
    "## Comportamiento anual de los ingresos ajustados por inflación desde el 2014 hasta el 2023\n",
    "\n",
    "Los ingresos ajustados por inflación muestran un crecimiento sostenido a largo plazo, aunque con ciertas fluctuaciones intermedias, especialmente entre 2016 y 2018.\n",
    "\n",
    "Los años recientes, especialmente 2022 y 2023, destacan por registrar los ingresos ajustados más altos, lo que refleja un mercado más dinámico, posiblemente relacionado con un mayor consumo y digitalización."
   ]
  },
  {
   "cell_type": "code",
   "execution_count": 34,
   "id": "f9f3f0f8",
   "metadata": {},
   "outputs": [
    {
     "data": {
      "application/vnd.plotly.v1+json": {
       "config": {
        "plotlyServerURL": "https://plot.ly"
       },
       "data": [
        {
         "hovertemplate": "Año=%{x}<br>Ingresos Ajustados (miles de pesos)=%{y}<extra></extra>",
         "legendgroup": "",
         "line": {
          "color": "#636efa",
          "dash": "solid"
         },
         "marker": {
          "symbol": "circle"
         },
         "mode": "lines+markers",
         "name": "",
         "orientation": "v",
         "showlegend": false,
         "type": "scatter",
         "x": [
          2014,
          2015,
          2016,
          2017,
          2018,
          2019,
          2020,
          2021,
          2022,
          2023
         ],
         "xaxis": "x",
         "y": [
          13683948.93585962,
          28780273.004310966,
          25859975.888030574,
          61587539.66189577,
          48157024.537146896,
          62443783.70893229,
          136068000.77798235,
          123581119.33143696,
          102410438.99649802,
          167692486.91708335
         ],
         "yaxis": "y"
        }
       ],
       "layout": {
        "legend": {
         "tracegroupgap": 0
        },
        "template": {
         "data": {
          "bar": [
           {
            "error_x": {
             "color": "#2a3f5f"
            },
            "error_y": {
             "color": "#2a3f5f"
            },
            "marker": {
             "line": {
              "color": "#E5ECF6",
              "width": 0.5
             },
             "pattern": {
              "fillmode": "overlay",
              "size": 10,
              "solidity": 0.2
             }
            },
            "type": "bar"
           }
          ],
          "barpolar": [
           {
            "marker": {
             "line": {
              "color": "#E5ECF6",
              "width": 0.5
             },
             "pattern": {
              "fillmode": "overlay",
              "size": 10,
              "solidity": 0.2
             }
            },
            "type": "barpolar"
           }
          ],
          "carpet": [
           {
            "aaxis": {
             "endlinecolor": "#2a3f5f",
             "gridcolor": "white",
             "linecolor": "white",
             "minorgridcolor": "white",
             "startlinecolor": "#2a3f5f"
            },
            "baxis": {
             "endlinecolor": "#2a3f5f",
             "gridcolor": "white",
             "linecolor": "white",
             "minorgridcolor": "white",
             "startlinecolor": "#2a3f5f"
            },
            "type": "carpet"
           }
          ],
          "choropleth": [
           {
            "colorbar": {
             "outlinewidth": 0,
             "ticks": ""
            },
            "type": "choropleth"
           }
          ],
          "contour": [
           {
            "colorbar": {
             "outlinewidth": 0,
             "ticks": ""
            },
            "colorscale": [
             [
              0,
              "#0d0887"
             ],
             [
              0.1111111111111111,
              "#46039f"
             ],
             [
              0.2222222222222222,
              "#7201a8"
             ],
             [
              0.3333333333333333,
              "#9c179e"
             ],
             [
              0.4444444444444444,
              "#bd3786"
             ],
             [
              0.5555555555555556,
              "#d8576b"
             ],
             [
              0.6666666666666666,
              "#ed7953"
             ],
             [
              0.7777777777777778,
              "#fb9f3a"
             ],
             [
              0.8888888888888888,
              "#fdca26"
             ],
             [
              1,
              "#f0f921"
             ]
            ],
            "type": "contour"
           }
          ],
          "contourcarpet": [
           {
            "colorbar": {
             "outlinewidth": 0,
             "ticks": ""
            },
            "type": "contourcarpet"
           }
          ],
          "heatmap": [
           {
            "colorbar": {
             "outlinewidth": 0,
             "ticks": ""
            },
            "colorscale": [
             [
              0,
              "#0d0887"
             ],
             [
              0.1111111111111111,
              "#46039f"
             ],
             [
              0.2222222222222222,
              "#7201a8"
             ],
             [
              0.3333333333333333,
              "#9c179e"
             ],
             [
              0.4444444444444444,
              "#bd3786"
             ],
             [
              0.5555555555555556,
              "#d8576b"
             ],
             [
              0.6666666666666666,
              "#ed7953"
             ],
             [
              0.7777777777777778,
              "#fb9f3a"
             ],
             [
              0.8888888888888888,
              "#fdca26"
             ],
             [
              1,
              "#f0f921"
             ]
            ],
            "type": "heatmap"
           }
          ],
          "heatmapgl": [
           {
            "colorbar": {
             "outlinewidth": 0,
             "ticks": ""
            },
            "colorscale": [
             [
              0,
              "#0d0887"
             ],
             [
              0.1111111111111111,
              "#46039f"
             ],
             [
              0.2222222222222222,
              "#7201a8"
             ],
             [
              0.3333333333333333,
              "#9c179e"
             ],
             [
              0.4444444444444444,
              "#bd3786"
             ],
             [
              0.5555555555555556,
              "#d8576b"
             ],
             [
              0.6666666666666666,
              "#ed7953"
             ],
             [
              0.7777777777777778,
              "#fb9f3a"
             ],
             [
              0.8888888888888888,
              "#fdca26"
             ],
             [
              1,
              "#f0f921"
             ]
            ],
            "type": "heatmapgl"
           }
          ],
          "histogram": [
           {
            "marker": {
             "pattern": {
              "fillmode": "overlay",
              "size": 10,
              "solidity": 0.2
             }
            },
            "type": "histogram"
           }
          ],
          "histogram2d": [
           {
            "colorbar": {
             "outlinewidth": 0,
             "ticks": ""
            },
            "colorscale": [
             [
              0,
              "#0d0887"
             ],
             [
              0.1111111111111111,
              "#46039f"
             ],
             [
              0.2222222222222222,
              "#7201a8"
             ],
             [
              0.3333333333333333,
              "#9c179e"
             ],
             [
              0.4444444444444444,
              "#bd3786"
             ],
             [
              0.5555555555555556,
              "#d8576b"
             ],
             [
              0.6666666666666666,
              "#ed7953"
             ],
             [
              0.7777777777777778,
              "#fb9f3a"
             ],
             [
              0.8888888888888888,
              "#fdca26"
             ],
             [
              1,
              "#f0f921"
             ]
            ],
            "type": "histogram2d"
           }
          ],
          "histogram2dcontour": [
           {
            "colorbar": {
             "outlinewidth": 0,
             "ticks": ""
            },
            "colorscale": [
             [
              0,
              "#0d0887"
             ],
             [
              0.1111111111111111,
              "#46039f"
             ],
             [
              0.2222222222222222,
              "#7201a8"
             ],
             [
              0.3333333333333333,
              "#9c179e"
             ],
             [
              0.4444444444444444,
              "#bd3786"
             ],
             [
              0.5555555555555556,
              "#d8576b"
             ],
             [
              0.6666666666666666,
              "#ed7953"
             ],
             [
              0.7777777777777778,
              "#fb9f3a"
             ],
             [
              0.8888888888888888,
              "#fdca26"
             ],
             [
              1,
              "#f0f921"
             ]
            ],
            "type": "histogram2dcontour"
           }
          ],
          "mesh3d": [
           {
            "colorbar": {
             "outlinewidth": 0,
             "ticks": ""
            },
            "type": "mesh3d"
           }
          ],
          "parcoords": [
           {
            "line": {
             "colorbar": {
              "outlinewidth": 0,
              "ticks": ""
             }
            },
            "type": "parcoords"
           }
          ],
          "pie": [
           {
            "automargin": true,
            "type": "pie"
           }
          ],
          "scatter": [
           {
            "fillpattern": {
             "fillmode": "overlay",
             "size": 10,
             "solidity": 0.2
            },
            "type": "scatter"
           }
          ],
          "scatter3d": [
           {
            "line": {
             "colorbar": {
              "outlinewidth": 0,
              "ticks": ""
             }
            },
            "marker": {
             "colorbar": {
              "outlinewidth": 0,
              "ticks": ""
             }
            },
            "type": "scatter3d"
           }
          ],
          "scattercarpet": [
           {
            "marker": {
             "colorbar": {
              "outlinewidth": 0,
              "ticks": ""
             }
            },
            "type": "scattercarpet"
           }
          ],
          "scattergeo": [
           {
            "marker": {
             "colorbar": {
              "outlinewidth": 0,
              "ticks": ""
             }
            },
            "type": "scattergeo"
           }
          ],
          "scattergl": [
           {
            "marker": {
             "colorbar": {
              "outlinewidth": 0,
              "ticks": ""
             }
            },
            "type": "scattergl"
           }
          ],
          "scattermapbox": [
           {
            "marker": {
             "colorbar": {
              "outlinewidth": 0,
              "ticks": ""
             }
            },
            "type": "scattermapbox"
           }
          ],
          "scatterpolar": [
           {
            "marker": {
             "colorbar": {
              "outlinewidth": 0,
              "ticks": ""
             }
            },
            "type": "scatterpolar"
           }
          ],
          "scatterpolargl": [
           {
            "marker": {
             "colorbar": {
              "outlinewidth": 0,
              "ticks": ""
             }
            },
            "type": "scatterpolargl"
           }
          ],
          "scatterternary": [
           {
            "marker": {
             "colorbar": {
              "outlinewidth": 0,
              "ticks": ""
             }
            },
            "type": "scatterternary"
           }
          ],
          "surface": [
           {
            "colorbar": {
             "outlinewidth": 0,
             "ticks": ""
            },
            "colorscale": [
             [
              0,
              "#0d0887"
             ],
             [
              0.1111111111111111,
              "#46039f"
             ],
             [
              0.2222222222222222,
              "#7201a8"
             ],
             [
              0.3333333333333333,
              "#9c179e"
             ],
             [
              0.4444444444444444,
              "#bd3786"
             ],
             [
              0.5555555555555556,
              "#d8576b"
             ],
             [
              0.6666666666666666,
              "#ed7953"
             ],
             [
              0.7777777777777778,
              "#fb9f3a"
             ],
             [
              0.8888888888888888,
              "#fdca26"
             ],
             [
              1,
              "#f0f921"
             ]
            ],
            "type": "surface"
           }
          ],
          "table": [
           {
            "cells": {
             "fill": {
              "color": "#EBF0F8"
             },
             "line": {
              "color": "white"
             }
            },
            "header": {
             "fill": {
              "color": "#C8D4E3"
             },
             "line": {
              "color": "white"
             }
            },
            "type": "table"
           }
          ]
         },
         "layout": {
          "annotationdefaults": {
           "arrowcolor": "#2a3f5f",
           "arrowhead": 0,
           "arrowwidth": 1
          },
          "autotypenumbers": "strict",
          "coloraxis": {
           "colorbar": {
            "outlinewidth": 0,
            "ticks": ""
           }
          },
          "colorscale": {
           "diverging": [
            [
             0,
             "#8e0152"
            ],
            [
             0.1,
             "#c51b7d"
            ],
            [
             0.2,
             "#de77ae"
            ],
            [
             0.3,
             "#f1b6da"
            ],
            [
             0.4,
             "#fde0ef"
            ],
            [
             0.5,
             "#f7f7f7"
            ],
            [
             0.6,
             "#e6f5d0"
            ],
            [
             0.7,
             "#b8e186"
            ],
            [
             0.8,
             "#7fbc41"
            ],
            [
             0.9,
             "#4d9221"
            ],
            [
             1,
             "#276419"
            ]
           ],
           "sequential": [
            [
             0,
             "#0d0887"
            ],
            [
             0.1111111111111111,
             "#46039f"
            ],
            [
             0.2222222222222222,
             "#7201a8"
            ],
            [
             0.3333333333333333,
             "#9c179e"
            ],
            [
             0.4444444444444444,
             "#bd3786"
            ],
            [
             0.5555555555555556,
             "#d8576b"
            ],
            [
             0.6666666666666666,
             "#ed7953"
            ],
            [
             0.7777777777777778,
             "#fb9f3a"
            ],
            [
             0.8888888888888888,
             "#fdca26"
            ],
            [
             1,
             "#f0f921"
            ]
           ],
           "sequentialminus": [
            [
             0,
             "#0d0887"
            ],
            [
             0.1111111111111111,
             "#46039f"
            ],
            [
             0.2222222222222222,
             "#7201a8"
            ],
            [
             0.3333333333333333,
             "#9c179e"
            ],
            [
             0.4444444444444444,
             "#bd3786"
            ],
            [
             0.5555555555555556,
             "#d8576b"
            ],
            [
             0.6666666666666666,
             "#ed7953"
            ],
            [
             0.7777777777777778,
             "#fb9f3a"
            ],
            [
             0.8888888888888888,
             "#fdca26"
            ],
            [
             1,
             "#f0f921"
            ]
           ]
          },
          "colorway": [
           "#636efa",
           "#EF553B",
           "#00cc96",
           "#ab63fa",
           "#FFA15A",
           "#19d3f3",
           "#FF6692",
           "#B6E880",
           "#FF97FF",
           "#FECB52"
          ],
          "font": {
           "color": "#2a3f5f"
          },
          "geo": {
           "bgcolor": "white",
           "lakecolor": "white",
           "landcolor": "#E5ECF6",
           "showlakes": true,
           "showland": true,
           "subunitcolor": "white"
          },
          "hoverlabel": {
           "align": "left"
          },
          "hovermode": "closest",
          "mapbox": {
           "style": "light"
          },
          "paper_bgcolor": "white",
          "plot_bgcolor": "#E5ECF6",
          "polar": {
           "angularaxis": {
            "gridcolor": "white",
            "linecolor": "white",
            "ticks": ""
           },
           "bgcolor": "#E5ECF6",
           "radialaxis": {
            "gridcolor": "white",
            "linecolor": "white",
            "ticks": ""
           }
          },
          "scene": {
           "xaxis": {
            "backgroundcolor": "#E5ECF6",
            "gridcolor": "white",
            "gridwidth": 2,
            "linecolor": "white",
            "showbackground": true,
            "ticks": "",
            "zerolinecolor": "white"
           },
           "yaxis": {
            "backgroundcolor": "#E5ECF6",
            "gridcolor": "white",
            "gridwidth": 2,
            "linecolor": "white",
            "showbackground": true,
            "ticks": "",
            "zerolinecolor": "white"
           },
           "zaxis": {
            "backgroundcolor": "#E5ECF6",
            "gridcolor": "white",
            "gridwidth": 2,
            "linecolor": "white",
            "showbackground": true,
            "ticks": "",
            "zerolinecolor": "white"
           }
          },
          "shapedefaults": {
           "line": {
            "color": "#2a3f5f"
           }
          },
          "ternary": {
           "aaxis": {
            "gridcolor": "white",
            "linecolor": "white",
            "ticks": ""
           },
           "baxis": {
            "gridcolor": "white",
            "linecolor": "white",
            "ticks": ""
           },
           "bgcolor": "#E5ECF6",
           "caxis": {
            "gridcolor": "white",
            "linecolor": "white",
            "ticks": ""
           }
          },
          "title": {
           "x": 0.05
          },
          "xaxis": {
           "automargin": true,
           "gridcolor": "white",
           "linecolor": "white",
           "ticks": "",
           "title": {
            "standoff": 15
           },
           "zerolinecolor": "white",
           "zerolinewidth": 2
          },
          "yaxis": {
           "automargin": true,
           "gridcolor": "white",
           "linecolor": "white",
           "ticks": "",
           "title": {
            "standoff": 15
           },
           "zerolinecolor": "white",
           "zerolinewidth": 2
          }
         }
        },
        "title": {
         "text": "Evolución de los Ingresos Ajustados por Inflación Anual (2014-2023) (Base 2014)"
        },
        "xaxis": {
         "anchor": "y",
         "domain": [
          0,
          1
         ],
         "title": {
          "text": "Año"
         }
        },
        "yaxis": {
         "anchor": "x",
         "domain": [
          0,
          1
         ],
         "title": {
          "text": "Ingresos Ajustados (miles de pesos)"
         }
        }
       }
      }
     },
     "metadata": {},
     "output_type": "display_data"
    }
   ],
   "source": [
    "from graficos import IngresosInflacion\n",
    "\n",
    "\n",
    "df_inflacion = pd.read_csv('Data_cleaned/Inflacion_Anual_Argentina_2014_2024.csv')\n",
    "ingresos_grafico = IngresosInflacion(dataframes['Ingresos'], df_inflacion)\n",
    "ingresos_grafico.display()"
   ]
  },
  {
   "cell_type": "markdown",
   "id": "f5024127",
   "metadata": {},
   "source": [
    "![imagen](src/evol_ingr.png)"
   ]
  },
  {
   "cell_type": "markdown",
   "id": "207eed1d",
   "metadata": {},
   "source": [
    "## Cálculo de KPI's y Recomendaciones Estratégicas para la Empresa\n",
    "\n",
    "### Oportunidades Detectadas y Recomendaciones\n",
    "\n",
    "#### 1. **Expandir la Penetración del Servicio de Internet**\n",
    "   - **Oportunidad:** Provincias como **La Rioja** y otras con crecimiento negativo o limitado en el KPI de penetración representan una oportunidad para captar nuevos clientes. El incremento en la cobertura de Internet en estas áreas podría generar una base de usuarios fidelizados a largo plazo.\n",
    "   - **Estrategia de Inversión:** Invertir en infraestructura para mejorar el acceso en regiones con menor penetración y ofrecer paquetes promocionales que incentiven la adopción del servicio.\n",
    "   - **Posible Ganancia:** Ampliar el mercado objetivo y aumentar los ingresos recurrentes al posicionarse como líderes en regiones desatendidas.\n",
    "\n",
    "---\n",
    "\n",
    "#### 2. **Acelerar la Adopción de Velocidades Altas**\n",
    "   - **Oportunidad:** Provincias como **Buenos Aires** y **Capital Federal** están experimentando un crecimiento constante en la velocidad promedio de bajada, lo que indica una alta demanda por velocidades más rápidas.\n",
    "   - **Estrategia de Inversión:** \n",
    "     - Desarrollar productos premium con velocidades superiores que incluyan beneficios adicionales como servicios OTT (Over-The-Top).\n",
    "     - En provincias rezagadas, ofrecer soluciones escalables para actualizar velocidades a un costo competitivo.\n",
    "   - **Posible Ganancia:** Captar usuarios de alta rentabilidad mediante planes premium y consolidar la base de usuarios en regiones con una demanda creciente.\n",
    "\n",
    "---\n",
    "\n",
    "#### 3. **Ampliar la Cobertura de Fibra Óptica**\n",
    "   - **Oportunidad:** El KPI muestra que la fibra óptica está en una etapa de crecimiento acelerado, pero su adopción no es uniforme en todas las provincias. Esto abre la puerta para convertirse en el principal proveedor de esta tecnología en regiones menos desarrolladas.\n",
    "   - **Estrategia de Inversión:**\n",
    "     - Establecer asociaciones público-privadas para reducir costos de instalación en provincias con baja penetración de fibra.\n",
    "     - Promover ofertas iniciales agresivas para captar clientes en el corto plazo y fidelizarlos con contratos a largo plazo.\n",
    "   - **Posible Ganancia:** Incrementar los ingresos a través de la adopción de fibra, una tecnología que garantiza mayores márgenes de rentabilidad por cliente debido a su estabilidad y capacidad.\n",
    "\n",
    "---\n",
    "\n",
    "#### 4. **Fidelización y Diversificación de Servicios**\n",
    "   - **Oportunidad:** Aprovechar el crecimiento detectado en provincias líderes como **Buenos Aires** para implementar estrategias de fidelización mediante servicios adicionales como TV digital, IoT (Internet of Things), y soluciones de ciberseguridad.\n",
    "   - **Estrategia de Inversión:**\n",
    "     - Introducir bundles de servicios (Internet + TV + IoT) para maximizar el ingreso por cliente.\n",
    "     - Explorar oportunidades en sectores industriales y comerciales que requieran conexiones de alta velocidad.\n",
    "   - **Posible Ganancia:** Incremento de ingresos promedio por cliente (ARPU, por sus siglas en inglés) y diversificación de fuentes de ingresos.\n",
    "\n",
    "---\n",
    "\n",
    "### Conclusión\n",
    "El análisis de los KPI demuestra que las provincias con menor penetración, menor velocidad promedio y menor cobertura de fibra óptica ofrecen grandes oportunidades de inversión con un potencial de alta rentabilidad. Para maximizar las ganancias, se recomienda una estrategia focalizada en:\n",
    "- Expandir infraestructura en regiones menos desarrolladas.\n",
    "- Promover la adopción de tecnologías avanzadas como la fibra óptica.\n",
    "- Capitalizar en el incremento de la demanda por velocidades altas mediante la creación de productos premium.\n",
    "\n",
    "Al priorizar estas áreas estratégicas, la empresa puede consolidar su posición como líder del mercado y asegurar un crecimiento sostenible en ingresos."
   ]
  },
  {
   "cell_type": "code",
   "execution_count": 35,
   "id": "55f1480e",
   "metadata": {},
   "outputs": [],
   "source": [
    "from KPIs import KPIAnalyzer"
   ]
  },
  {
   "cell_type": "code",
   "execution_count": null,
   "id": "4ddbf4ba",
   "metadata": {},
   "outputs": [],
   "source": [
    "# Crear instancia para los KPI\n",
    "kpi_analyzer = KPIAnalyzer(\n",
    "    dataframes['Penetracion-hogares'],\n",
    "    dataframes['Velocidad % por prov'],\n",
    "    dataframes['Totales Accesos Por Tecnología']\n",
    ")\n",
    "\n",
    "# Mostrar los KPI interactivos\n",
    "kpi_analyzer.display()\n"
   ]
  },
  {
   "cell_type": "markdown",
   "id": "3733fe55",
   "metadata": {},
   "source": [
    "![imagen](src/KPI_pen_prov_cap_fed_2023.png)\n",
    "![imagen](src/KPI_pen_prov_buen_air_2023.png)\n",
    "![imagen](src/KPI_pen_prov_cordr_2023.png)\n",
    "![imagen](src/KPI_vel_prom_buen_air.png)\n",
    "![imagen](src/KPI_vel_prom_cord_2023.png)\n",
    "![imagen](src/KPI_vel_prom_rioja_2022.png)\n",
    "![imagen](src/KPI_fibOpt_2023.png.png)"
   ]
  },
  {
   "cell_type": "markdown",
   "id": "49bec78a",
   "metadata": {},
   "source": [
    "## Conclusiones y Recomendaciones Generales Basadas en los Gráficos\n",
    "\n",
    "### Conclusiones Generales\n",
    "Basándonos en el análisis de los gráficos relacionados con distribución de velocidades, tecnologías, penetración de internet, ingresos ajustados y velocidad promedio, se pueden extraer las siguientes conclusiones generales:\n",
    "\n",
    "---\n",
    "\n",
    "#### 1. **Preferencia por velocidades superiores**\n",
    "- La mayoría de los accesos están concentrados en velocidades superiores a **30 Mbps**, mientras que las categorías de velocidad bajas (<1 Mbps) están prácticamente obsoletas.\n",
    "- Esto indica una transición hacia servicios de mayor capacidad, alineados con las crecientes necesidades de consumo digital (streaming, videojuegos, teletrabajo).\n",
    "\n",
    "#### 2. **Dominio de Cablemodem y Fibra Óptica**\n",
    "- **Cablemodem** lidera en términos de accesos, pero **fibra óptica** muestra un crecimiento acelerado, indicando su importancia estratégica como la tecnología del futuro.\n",
    "- Alternativas como ADSL y Wireless están quedando rezagadas, reflejando una evolución natural hacia tecnologías más avanzadas.\n",
    "\n",
    "#### 3. **Crecimiento constante en la penetración de internet**\n",
    "- Provincias como Córdoba muestran una penetración cercana al **90% de hogares**, mientras que otras provincias tienen un crecimiento más moderado o incluso negativo.\n",
    "- Esto resalta una **oportunidad significativa para mejorar la conectividad** en áreas con menor adopción.\n",
    "\n",
    "#### 4. **Incremento sostenido de ingresos**\n",
    "- Los ingresos ajustados por inflación han crecido significativamente desde 2014, con un fuerte repunte en los últimos años (2022-2023), lo que refleja una expansión real en términos económicos.\n",
    "- Este crecimiento indica que el sector sigue siendo rentable incluso en contextos de alta inflación.\n",
    "\n",
    "#### 5. **Incremento en velocidad promedio**\n",
    "- Las velocidades promedio han aumentado considerablemente en regiones clave como Capital Federal, alcanzando hasta **180 Mbps**. Esto refleja mejoras continuas en la infraestructura de red y una demanda activa por mejores servicios.\n",
    "\n",
    "---\n",
    "\n",
    "### Recomendaciones Generales\n",
    "\n",
    "---\n",
    "\n",
    "#### 1. **Enfocarse en fibra óptica como tecnología prioritaria**\n",
    "- **Ampliar la cobertura de fibra óptica**, particularmente en regiones con menor adopción, como áreas rurales o suburbanas.\n",
    "- Ofrecer incentivos a usuarios de tecnologías rezagadas (ADSL, Wireless) para que migren a fibra óptica, mejorando tanto la calidad como la rentabilidad.\n",
    "\n",
    "---\n",
    "\n",
    "#### 2. **Expandir conectividad en regiones con baja penetración**\n",
    "- Provincias con crecimiento negativo o limitado en la penetración de internet (por ejemplo, La Rioja) deben ser prioridad para nuevas inversiones.\n",
    "- Diseñar **planes de expansión de cobertura** apoyados por subsidios o asociaciones público-privadas para captar nuevos usuarios.\n",
    "\n",
    "---\n",
    "\n",
    "#### 3. **Optimizar la oferta de velocidades altas**\n",
    "- Aprovechar la demanda por velocidades superiores a **30 Mbps** ofreciendo planes premium con servicios adicionales como contenido OTT o paquetes de gaming.\n",
    "- Implementar programas escalonados que permitan a los usuarios aumentar gradualmente su velocidad a precios competitivos.\n",
    "\n",
    "---\n",
    "\n",
    "#### 4. **Incentivar la adopción de tecnologías avanzadas**\n",
    "- Crear campañas promocionales que destaquen las ventajas de Cablemodem y fibra óptica sobre ADSL y Wireless, enfocándose en la calidad y estabilidad de las conexiones.\n",
    "- Establecer asociaciones con empresas locales para acelerar la implementación de estas tecnologías en áreas de difícil acceso.\n",
    "\n",
    "---\n",
    "\n",
    "#### 5. **Continuar el monitoreo de ingresos e infraestructura**\n",
    "- Usar el análisis de ingresos ajustados para identificar áreas de mayor rentabilidad y priorizar inversiones estratégicas en esas regiones.\n",
    "- Realizar estudios periódicos de la infraestructura tecnológica para garantizar que las mejoras se mantengan alineadas con las tendencias del mercado.\n",
    "\n",
    "---\n",
    "\n",
    "### Perspectiva para Inversionistas\n",
    "Estas recomendaciones estratégicas apuntan a maximizar las oportunidades en un sector en crecimiento constante. La combinación de infraestructura tecnológica avanzada, estrategias de fidelización, y una expansión sostenible puede generar retornos significativos para las empresas que decidan invertir en este mercado.\n"
   ]
  }
 ],
 "metadata": {
  "kernelspec": {
   "display_name": ".venv",
   "language": "python",
   "name": "python3"
  },
  "language_info": {
   "codemirror_mode": {
    "name": "ipython",
    "version": 3
   },
   "file_extension": ".py",
   "mimetype": "text/x-python",
   "name": "python",
   "nbconvert_exporter": "python",
   "pygments_lexer": "ipython3",
   "version": "3.10.0rc2"
  }
 },
 "nbformat": 4,
 "nbformat_minor": 5
}
